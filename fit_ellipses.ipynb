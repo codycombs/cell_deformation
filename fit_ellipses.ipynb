{
 "cells": [
  {
   "cell_type": "markdown",
   "metadata": {},
   "source": [
    "# fit_ellipses\n",
    "- Given a video and events file, fits an ellipse to every detection when possible\n",
    "- Outputs a file of the fits, with each row corresponding to a different event\n",
    "- The file structure looks like:\n",
    "\n",
    "    - (fitting parameters)\n",
    "    - [event num, [[ellipse center x, ellipse center y], [ellipse axis 1, ellipse axis 2], ellipse angle for detection 1], [detection 2...], etc.]"
   ]
  },
  {
   "cell_type": "markdown",
   "metadata": {},
   "source": [
    "# Imports"
   ]
  },
  {
   "cell_type": "code",
   "execution_count": null,
   "metadata": {
    "collapsed": true
   },
   "outputs": [],
   "source": [
    "# Python standard library\n",
    "import sys\n",
    "import csv\n",
    "\n",
    "# Scientific computing\n",
    "import numpy as np\n",
    "import cv2\n",
    "import matplotlib.pyplot as plt\n",
    "import scipy.ndimage\n",
    "\n",
    "# Program specific\n",
    "sys.path.append('/home/prestonh/Desktop/Research/pore_stats/pore_stats/rp/')\n",
    "sys.path.append('/home/prestonh/Desktop/Research/pore_stats/pore_stats/oi/')\n",
    "import resistive_pulse as rp\n",
    "import optical_imaging as oi\n",
    "import oi_file\n",
    "\n",
    "\n",
    "# Jupyter\n",
    "from IPython.display import HTML"
   ]
  },
  {
   "cell_type": "markdown",
   "metadata": {},
   "source": [
    "# Load data"
   ]
  },
  {
   "cell_type": "code",
   "execution_count": null,
   "metadata": {
    "collapsed": true
   },
   "outputs": [],
   "source": [
    "date = '7-19-2017/'\n",
    "particle = '293-T/'\n",
    "channel = '15-30-15_3/'\n",
    "file_index = '1'\n",
    "\n",
    "base_path = '/home/prestonh/Desktop/Research/cancer_cells/data/'\n",
    "\n",
    "oi_vid_file_path = base_path + date + particle + channel + 'oi/bin/test_camera_' + file_index\n",
    "oi_events_file_path = base_path + date + particle + channel + 'oi/events/test_camera_' + file_index + '_events_filtered.json'"
   ]
  },
  {
   "cell_type": "code",
   "execution_count": null,
   "metadata": {
    "collapsed": false
   },
   "outputs": [],
   "source": [
    "# Load video\n",
    "oi_vid = oi_file.Video(oi_vid_file_path, 512, 288, 100000)\n",
    "\n",
    "# Load events\n",
    "oi_events = oi_file.open_event_file_json(oi_events_file_path)"
   ]
  },
  {
   "cell_type": "markdown",
   "metadata": {},
   "source": [
    "# Load template and create stage"
   ]
  },
  {
   "cell_type": "code",
   "execution_count": null,
   "metadata": {
    "collapsed": false
   },
   "outputs": [],
   "source": [
    "template_index = 1500\n",
    "\n",
    "template_frame = oi_vid.get_frame(template_index)\n",
    "\n",
    "plt.imshow(template_frame, cmap = 'gray', origin = 'lower')\n",
    "plt.show()"
   ]
  },
  {
   "cell_type": "code",
   "execution_count": null,
   "metadata": {
    "collapsed": false
   },
   "outputs": [],
   "source": [
    "reload(oi)\n",
    "template_frame = oi_vid.get_frame(template_index)\n",
    "c0 = [150, 128]\n",
    "c1 = [145, 95]\n",
    "c2 = [387, 83] \n",
    "c3 = [392, 118]\n",
    "oi_stage = oi.Stage(template_frame, c0, c1, c2, c3)\n",
    "oi_stage.plot_stage()"
   ]
  },
  {
   "cell_type": "markdown",
   "metadata": {},
   "source": [
    "# Define functions"
   ]
  },
  {
   "cell_type": "code",
   "execution_count": null,
   "metadata": {
    "collapsed": false
   },
   "outputs": [],
   "source": [
    "def crop_frame(frame, px, py, crop_distance):    \n",
    "    x0 = int(px - crop_distance)\n",
    "    x1 = int(px + crop_distance)\n",
    "    y0 = int(py - crop_distance)\n",
    "    y1 = int(py + crop_distance)\n",
    "    cropped_frame = np.copy(frame)[y0:y1, x0:x1]\n",
    "    \n",
    "    return cropped_frame\n",
    "    \n",
    "\n",
    "preprocessing_steps = []\n",
    "def preprocess_fit_ellipse(raw_frame, raw_template_frame, detection):\n",
    "\n",
    "    \n",
    "    \n",
    "    \n",
    "    # Refresh list\n",
    "    del preprocessing_steps[:]\n",
    "\n",
    "    \n",
    "\n",
    "    \n",
    "    #################################\n",
    "    # Copy\n",
    "    #################################\n",
    "    \n",
    "    \n",
    "    \n",
    "    preprocessing_steps.append(['copy'])\n",
    "    \n",
    "    template_frame = np.copy(raw_template_frame)\n",
    "    processed_frame = np.copy(raw_frame)\n",
    "    \n",
    "\n",
    "    #################################\n",
    "    # Crop\n",
    "    #################################\n",
    "    \n",
    "    crop_distance = 30\n",
    "    \n",
    "    preprocessing_steps.append(['crop'] + [crop_distance])\n",
    "\n",
    "    processed_frame = crop_frame(processed_frame, detection._px, detection._py, crop_distance)\n",
    "    template_frame = crop_frame(template_frame, detection._px, detection._py, crop_distance)\n",
    "    frame = np.copy(processed_frame)\n",
    "\n",
    "    #################################\n",
    "    # Negative\n",
    "    #################################\n",
    "\n",
    "\n",
    "\n",
    "    preprocessing_steps.append(['negative'])\n",
    "\n",
    "    processed_frame = np.abs(processed_frame - template_frame)\n",
    "\n",
    "\n",
    "\n",
    "    #################################\n",
    "    # Blur\n",
    "    #################################\n",
    "\n",
    "\n",
    "    blur_kernel = (9,9)\n",
    "    preprocessing_steps.append(['gaussian blur', blur_kernel])\n",
    "\n",
    "    processed_frame = cv2.GaussianBlur(processed_frame, blur_kernel, 0)\n",
    "\n",
    "\n",
    "\n",
    "    #################################\n",
    "    # Rescale\n",
    "    #################################\n",
    "\n",
    "    preprocessing_steps.append(['rescale'])\n",
    "\n",
    "    processed_frame = (processed_frame - np.min(processed_frame))/(np.max(processed_frame) - np.min(processed_frame))\n",
    "\n",
    "\n",
    "\n",
    "\n",
    "    #################################\n",
    "    # Threshold\n",
    "    #################################\n",
    "\n",
    "    threshold = .25\n",
    "    \n",
    "    preprocessing_steps.append(['pixel intensity threshold', threshold])\n",
    "\n",
    "\n",
    "    processed_frame[processed_frame > threshold] = 1\n",
    "    processed_frame[processed_frame <= threshold] = 0\n",
    "\n",
    "\n",
    "\n",
    "\n",
    "    #################################\n",
    "    # Erode subtraction\n",
    "    #################################\n",
    "    iterations = 1\n",
    "    preprocessing_steps.append(['erode subtraction, iterations = ', iterations])\n",
    "\n",
    "\n",
    "    processed_frame = processed_frame - scipy.ndimage.morphology.binary_erosion(processed_frame, iterations = 1)\n",
    "\n",
    "\n",
    "\n",
    "\n",
    "\n",
    "    #################################\n",
    "    # Fill holes\n",
    "    #################################\n",
    "    preprocessing_steps.append(['fill holes'])\n",
    "\n",
    "    processed_frame = scipy.ndimage.binary_fill_holes(processed_frame)\n",
    "\n",
    "\n",
    "    #################################    \n",
    "    # Get largest cluster\n",
    "    #################################\n",
    "\n",
    "    preprocessing_steps.append(['clustering'])\n",
    "\n",
    "\n",
    "    clusters = oi.find_clusters_percentage_based(processed_frame, np.zeros((processed_frame.shape[0], processed_frame.shape[1])), diag = True)\n",
    "    largest_cluster = sorted(clusters, key = lambda x: len(x))[-1]\n",
    "    processed_frame = np.zeros(processed_frame.shape, dtype = np.uint8)\n",
    "    for pixel in largest_cluster:\n",
    "        processed_frame[pixel[0], pixel[1]] = 1\n",
    "\n",
    "\n",
    "\n",
    "\n",
    "\n",
    "    #################################\n",
    "    # Morphological closing\n",
    "    #################################\n",
    "\n",
    "    morph_kernel_size = (10,10)\n",
    "    preprocessing_steps.append(['morphological closing, kernel = ', morph_kernel_size])\n",
    "\n",
    "    kernel = cv2.getStructuringElement(cv2.MORPH_ELLIPSE, morph_kernel_size)\n",
    "    processed_frame = cv2.morphologyEx(np.array(processed_frame, dtype = np.uint8), cv2.MORPH_CLOSE, kernel)\n",
    "\n",
    "\n",
    "\n",
    "\n",
    "    #################################\n",
    "    # Erode subtraction\n",
    "    #################################\n",
    "\n",
    "    iterations = 3\n",
    "    preprocessing_steps.append(['erosion subtraction, iterations = ', iterations])\n",
    "\n",
    "\n",
    "\n",
    "    processed_frame = processed_frame - scipy.ndimage.morphology.binary_erosion(processed_frame, iterations = iterations)\n",
    "\n",
    "        \n",
    "    \n",
    " \n",
    "\n",
    "\n",
    "    ###################################\n",
    "    # Fit ellipse\n",
    "    ###################################\n",
    "\n",
    "\n",
    "    cell_pixels = np.where(processed_frame == 1)\n",
    "\n",
    "    ellipse = oi.fit_ellipse(cell_pixels[1], cell_pixels[0])\n",
    "\n",
    "    # Center\n",
    "    ellipse_center = oi.get_ellipse_center(ellipse)\n",
    "    ellipse_center_adjusted = oi.get_ellipse_center(ellipse, offset = (detection._px - crop_distance, detection._py - crop_distance))\n",
    "\n",
    "    # Axes\n",
    "    ellipse_axes_lengths = oi.get_ellipse_axes_lengths(ellipse)\n",
    "    \n",
    "    # Angle\n",
    "    ellipse_angle = oi.get_ellipse_angle(ellipse)\n",
    "\n",
    " \n",
    "        \n",
    "        \n",
    "        \n",
    "        \n",
    "        \n",
    "    \n",
    "        \n",
    "        \n",
    "    return [ellipse_center_adjusted[0], ellipse_center_adjusted[1], ellipse_axes_lengths[0], ellipse_axes_lengths[1], ellipse_angle]\n",
    "        \n"
   ]
  },
  {
   "cell_type": "markdown",
   "metadata": {},
   "source": [
    "# Preprocess, fit ellipse to all detections, calculate aspect ratios at every frame"
   ]
  },
  {
   "cell_type": "code",
   "execution_count": null,
   "metadata": {
    "collapsed": false,
    "scrolled": false
   },
   "outputs": [],
   "source": [
    "ellipsess = []\n",
    "detection_indicess = []\n",
    "\n",
    "\n",
    "for i, oi_event in enumerate(oi_events):\n",
    "    print 'event', i, '/', len(oi_events)\n",
    "    \n",
    "    \n",
    "    ellipsess.append([])\n",
    "    detection_indicess.append([])\n",
    "    \n",
    "    \n",
    "    for j, detection in enumerate(oi_event._detections):\n",
    "        \n",
    "        try:\n",
    "\n",
    "            # Get raw frame\n",
    "            frame = oi_vid.get_frame(detection._tf)\n",
    "\n",
    "            # Preprocess and fit ellipse\n",
    "            ellipse = preprocess_fit_ellipse(frame, template_frame, detection)\n",
    "\n",
    "\n",
    "\n",
    "            ellipsess[-1].append([j] + ellipse)\n",
    "\n",
    "            \n",
    "        except:\n",
    "            \n",
    "            print '\\tfailed on', j, '/', len(oi_event._detections)"
   ]
  },
  {
   "cell_type": "markdown",
   "metadata": {},
   "source": [
    "# Save ellipses"
   ]
  },
  {
   "cell_type": "code",
   "execution_count": null,
   "metadata": {
    "collapsed": false
   },
   "outputs": [],
   "source": [
    "output_file_path = '../data/' + date + particle + channel + 'ellipses_' + file_index"
   ]
  },
  {
   "cell_type": "code",
   "execution_count": null,
   "metadata": {
    "collapsed": false
   },
   "outputs": [],
   "source": [
    "with open(output_file_path, 'w') as file_handle:\n",
    "    file_writer = csv.writer(file_handle, delimiter = '\\t')\n",
    "    \n",
    "    # Write preprocessing steps\n",
    "    file_writer.writerow(preprocessing_steps)\n",
    "    \n",
    "    # Write ellipse info\n",
    "    file_writer.writerow(['detection index', 'ellipse center x', 'ellipse center y', 'ellipse axes x', 'ellipse axes y', 'ellipse angle'])\n",
    "    \n",
    "    # Write ellipse\n",
    "    for i, ellipses in enumerate(ellipsess):\n",
    "        file_writer.writerow(['event #', i])\n",
    "        for ellipse in ellipses:\n",
    "            file_writer.writerow(ellipse)"
   ]
  },
  {
   "cell_type": "code",
   "execution_count": null,
   "metadata": {
    "collapsed": true
   },
   "outputs": [],
   "source": []
  }
 ],
 "metadata": {
  "kernelspec": {
   "display_name": "Python [conda env:py27]",
   "language": "python",
   "name": "conda-env-py27-py"
  },
  "language_info": {
   "codemirror_mode": {
    "name": "ipython",
    "version": 2
   },
   "file_extension": ".py",
   "mimetype": "text/x-python",
   "name": "python",
   "nbconvert_exporter": "python",
   "pygments_lexer": "ipython2",
   "version": "2.7.12"
  }
 },
 "nbformat": 4,
 "nbformat_minor": 1
}
