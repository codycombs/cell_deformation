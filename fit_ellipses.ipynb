{
 "cells": [
  {
   "cell_type": "markdown",
   "metadata": {},
   "source": [
    "# Fit ellipses"
   ]
  },
  {
   "cell_type": "markdown",
   "metadata": {},
   "source": [
    "## Imports"
   ]
  },
  {
   "cell_type": "code",
   "execution_count": null,
   "metadata": {
    "collapsed": false
   },
   "outputs": [],
   "source": [
    "# Python standard library\n",
    "import sys\n",
    "import csv\n",
    "import os\n",
    "\n",
    "# Scientific computing\n",
    "\n",
    "import numpy as np\n",
    "import cv2\n",
    "import matplotlib.pyplot as plt\n",
    "import scipy.ndimage\n",
    "import sklearn.mixture\n",
    "\n",
    "#plt.rc('text', usetex=True)\n",
    "plt.rcParams['text.latex.preamble']=[r\"\\usepackage{amsmath}\"]\n",
    "\n",
    "# Program specific\n",
    "sys.path.append('/home/prestonh/Desktop/Research/pore_stats/pore_stats/oi/')\n",
    "import optical_imaging as oi\n",
    "import oi_file\n",
    "import image_processing\n",
    "\n",
    "\n",
    "# Jupyter\n",
    "from IPython.display import HTML"
   ]
  },
  {
   "cell_type": "markdown",
   "metadata": {},
   "source": [
    "## Load data"
   ]
  },
  {
   "cell_type": "code",
   "execution_count": null,
   "metadata": {
    "collapsed": false
   },
   "outputs": [],
   "source": [
    "date = '10-10-2017'\n",
    "particle = '293-T_0'\n",
    "channel = '10-20-10_1'\n",
    "file_index = '0'\n",
    "\n",
    "base_path = oi_file.data_base_path\n",
    "\n",
    "oi_vid_file_path = base_path + date + '/'+ particle + '/' + channel + '/oi/bin/test_camera_' + file_index\n",
    "oi_events_file_path = base_path + date + '/' + particle + '/' + channel + '/oi/events/test_camera_' + file_index + '_events' + '.json'"
   ]
  },
  {
   "cell_type": "code",
   "execution_count": null,
   "metadata": {
    "collapsed": false
   },
   "outputs": [],
   "source": [
    "# Load video\n",
    "res_x = 384\n",
    "res_y = 112\n",
    "oi_fps = 250000\n",
    "exposure = 500*10**(-9.)\n",
    "oi_vid = oi_file.Video(oi_vid_file_path, res_x, res_y, oi_fps, exposure)\n",
    "\n",
    "# Load events\n",
    "oi_events = oi_file.open_event_file_json(oi_events_file_path)\n",
    "\n",
    "print 'loaded', len(oi_events), 'oi events'"
   ]
  },
  {
   "cell_type": "markdown",
   "metadata": {},
   "source": [
    "# Create stage"
   ]
  },
  {
   "cell_type": "code",
   "execution_count": null,
   "metadata": {
    "collapsed": false
   },
   "outputs": [],
   "source": [
    "template_index = 500\n",
    "\n",
    "template_frame = oi_vid.get_frame(template_index)\n",
    "\n",
    "plt.imshow(template_frame, cmap = 'gray', origin = 'lower')\n",
    "plt.show()"
   ]
  },
  {
   "cell_type": "code",
   "execution_count": null,
   "metadata": {
    "collapsed": false,
    "scrolled": true
   },
   "outputs": [],
   "source": [
    "reload(oi)\n",
    "template_frame = oi_vid.get_frame(template_index)\n",
    "\n",
    "stage_file_path = base_path + date + '/' + particle + '/' + channel + '/oi/stage/stage_' + file_index\n",
    "print stage_file_path\n",
    "cs = oi.load_stage_file(stage_file_path)\n",
    "print cs\n",
    "c0 = cs[0]\n",
    "c1 = cs[1]\n",
    "c2 = cs[2]\n",
    "c3 = cs[3]\n",
    "\n",
    "oi_stage = oi.Stage(template_frame, c0, c1, c2, c3)\n",
    "oi_stage.plot_stage()"
   ]
  },
  {
   "cell_type": "markdown",
   "metadata": {},
   "source": [
    "## Define plotting functions"
   ]
  },
  {
   "cell_type": "code",
   "execution_count": null,
   "metadata": {
    "collapsed": false
   },
   "outputs": [],
   "source": [
    "def plot_frame(frame, show = True):\n",
    "    plt.imshow(frame, cmap = 'gray', origin = 'lower', interpolation = 'none')\n",
    "    \n",
    "    if show:\n",
    "        plt.show()\n",
    "    \n",
    "def plot_processed_over_raw(processed_frame, frame, show = True):\n",
    "    green_processed_frame = np.zeros((processed_frame.shape[0], processed_frame.shape[1], 3))\n",
    "    green_processed_frame[:,:,1] = processed_frame\n",
    "\n",
    "    plt.imshow(frame, cmap = 'gray', origin = 'lower', alpha = 1, interpolation = 'none')\n",
    "    plt.imshow(green_processed_frame, cmap = 'gray', origin = 'lower', alpha = 0.15, interpolation = 'none')\n",
    "\n",
    "    if show:\n",
    "        plt.show()\n",
    "    \n",
    "def plot_frame_hist(frame, show = True):\n",
    "    plt.hist(frame.flatten(), facecolor = 'k', bins = 100)\n",
    "    \n",
    "    if show:\n",
    "        plt.show()\n",
    "    \n",
    "def plot_all(processed_frame, frame):\n",
    "    fig, axes = plt.subplots(1,3,figsize = (12,3))\n",
    "    \n",
    "    # Plot 1\n",
    "    plt.sca(axes[0])\n",
    "    plot_frame(processed_frame, show = False)\n",
    "    \n",
    "    \n",
    "    # Plot 2\n",
    "    plt.sca(axes[1])\n",
    "    plot_processed_over_raw(processed_frame, frame, show = False)\n",
    "    \n",
    "    # Plot 3\n",
    "    plt.sca(axes[2])\n",
    "    plot_frame_hist(processed_frame, show = False)\n",
    "    \n",
    "    plt.show()"
   ]
  },
  {
   "cell_type": "code",
   "execution_count": null,
   "metadata": {
    "collapsed": true
   },
   "outputs": [],
   "source": [
    "def process_frame(frame, template_frame, detection, debug = False):\n",
    "    \n",
    "    processed_frame = np.copy(frame)\n",
    "    processed_template_frame = np.copy(template_frame)\n",
    "    \n",
    "    # Crop\n",
    "    function = crop_step['function']\n",
    "    kwargs = crop_step['kwargs']            \n",
    "    kwargs['x'] = detection._px\n",
    "    kwargs['y'] = detection._py\n",
    "    processed_frame = function(processed_frame, **kwargs)\n",
    "    processed_template_frame = function(processed_template_frame, **kwargs)\n",
    "    cropped_frame = np.copy(processed_frame)\n",
    "    \n",
    "    if debug:\n",
    "        print function.__name__, kwargs\n",
    "        #plot_all(processed_frame, cropped_frame)\n",
    "    \n",
    "    \n",
    "    # Pre-negative steps\n",
    "    for prenegative_step in prenegative_steps:\n",
    "        function = prenegative_step['function']\n",
    "        kwargs = prenegative_step['kwargs']\n",
    "        \n",
    "        processed_frame = function(processed_frame, **kwargs)\n",
    "        processed_template_frame = function(processed_template_frame, **kwargs)\n",
    "        \n",
    "        if debug:\n",
    "            print function.__name__, kwargs\n",
    "            plot_all(processed_frame, cropped_frame)\n",
    "        \n",
    "    # Negative step\n",
    "    function = negative_step['function']\n",
    "    kwargs = negative_step['kwargs']\n",
    "    processed_frame = function(processed_frame, processed_template_frame, **kwargs)\n",
    "    \n",
    "    if debug:\n",
    "        print function.__name__, kwargs\n",
    "        plot_all(processed_frame, cropped_frame)\n",
    "        \n",
    "    # Post-negative steps\n",
    "    for postnegative_step in postnegative_steps:\n",
    "        function = postnegative_step['function']\n",
    "        kwargs = postnegative_step['kwargs']\n",
    "        \n",
    "        processed_frame = function(processed_frame, **kwargs)\n",
    "        \n",
    "        if debug:\n",
    "            print function.__name__, kwargs\n",
    "            plot_all(processed_frame, cropped_frame)\n",
    "            \n",
    "    return processed_frame\n",
    "  \n",
    "def fit_plot_ellipse(frame, processed_frame, crop_distance, detection, detection_index, debug = False):\n",
    "\n",
    "    # Ellipse-fitting\n",
    "    \n",
    "    \n",
    "    ellipse_pixels = np.where(processed_frame == 1)\n",
    "        \n",
    "    ellipse = oi.fit_ellipse_image_aligned(ellipse_pixels[1], ellipse_pixels[0])\n",
    "    \n",
    "    \n",
    "    # Get ellipse parameters\n",
    "    ellipse_x, ellipse_y = oi.get_ellipse_center(ellipse)\n",
    "    ellipse_a, ellipse_b = oi.get_ellipse_axes_lengths(ellipse)\n",
    "    ellipse_theta = oi.get_ellipse_angle(ellipse)\n",
    "    \n",
    "    cropped_frame = image_processing.crop_frame(frame, detection._px, detection._py, crop_distance)\n",
    "    \n",
    "    \n",
    "    # Plot\n",
    "    \n",
    "    if debug:\n",
    "        fig, axes = plt.subplots(1,3,figsize = (12,6))\n",
    "\n",
    "        green_processed_frame = np.zeros((processed_frame.shape[0], processed_frame.shape[1], 3))\n",
    "        green_processed_frame[:,:,1] = np.copy(processed_frame)\n",
    "        \n",
    "\n",
    "\n",
    "\n",
    "\n",
    "        fig.sca(axes[0])\n",
    "        plt.imshow(cropped_frame, cmap = 'gray', origin = 'lower', interpolation = 'none')\n",
    "        \n",
    "        plt.xticks([])\n",
    "        plt.yticks([])\n",
    "\n",
    "\n",
    "        fig.sca(axes[1])\n",
    "        plt.imshow(cropped_frame, interpolation = 'none', origin = 'lower', alpha = 1., cmap = 'gray')\n",
    "        plt.imshow(green_processed_frame, interpolation = 'none', origin = 'lower', alpha = 0.5)\n",
    "        \n",
    "        plt.xticks([])\n",
    "        plt.yticks([])\n",
    "\n",
    "        fig.sca(axes[2])\n",
    "        plt.imshow(cropped_frame, interpolation = 'none', origin = 'lower', alpha = 1., cmap = 'gray')\n",
    "        plt.imshow(green_processed_frame, interpolation = 'none', origin = 'lower', alpha = 0.5)\n",
    "        \n",
    "        plt.xticks([])\n",
    "        plt.yticks([])\n",
    "        \n",
    "        \n",
    "        num_points = 100\n",
    "        xs = []\n",
    "        ys = []\n",
    "        for i in range(num_points):\n",
    "            angle = i*2*np.pi/99.\n",
    "            temp_x = ellipse_a*np.cos(angle)\n",
    "            temp_y = ellipse_b*np.sin(angle)\n",
    "            xs.append(ellipse_x + np.cos(ellipse_theta)*temp_x + np.sin(ellipse_theta)*temp_y)\n",
    "            ys.append(ellipse_y + np.sin(ellipse_theta)*temp_x - np.cos(ellipse_theta)*temp_y)\n",
    "            \n",
    "            \n",
    "        plt.plot(xs, ys, ls = '--', c = 'white', lw = 1)\n",
    "        \n",
    "        plt.text(0, 1.0, 'a/b=' + str(round(ellipse_a/ellipse_b, 2)), transform = plt.gca().transAxes,\\\n",
    "                 color = 'white', fontweight = 'bold', size = 24, ha = 'left', va = 'top')\n",
    "        \n",
    "        plt.xlim(0, cropped_frame.shape[1] - 1)\n",
    "        plt.ylim(0, cropped_frame.shape[0] - 1)\n",
    "            \n",
    "            \n",
    "\n",
    "\n",
    "        plt.show()\n",
    "    \n",
    "    \n",
    "    \n",
    "    \n",
    "    ellipse_x = ellipse_x + detection._px - crop_distance\n",
    "    ellipse_y = ellipse_y + detection._py - crop_distance\n",
    "    \n",
    "    \n",
    "    return [detection_index, ellipse_x, ellipse_y, ellipse_a, ellipse_b, ellipse_theta]\n",
    "        \n",
    "    \n",
    "        "
   ]
  },
  {
   "cell_type": "markdown",
   "metadata": {},
   "source": [
    "## Find event to test fit on"
   ]
  },
  {
   "cell_type": "markdown",
   "metadata": {},
   "source": [
    "##### Frame"
   ]
  },
  {
   "cell_type": "code",
   "execution_count": null,
   "metadata": {
    "collapsed": false,
    "scrolled": true
   },
   "outputs": [],
   "source": [
    "fig, axes = plt.subplots(6,6,figsize = (10,5))\n",
    "start_index = 36*6\n",
    "\n",
    "for i in range(36):\n",
    "    oi_index = start_index + i\n",
    "    oi_event = oi_events[oi_index]\n",
    "    ts = oi_event.get_tf()\n",
    "    t = int((ts[-1] + ts[0])/2.)\n",
    "    frame = oi_vid.get_frame(t)\n",
    "    \n",
    "    \n",
    "    row = i/6\n",
    "    column = i%6\n",
    "    plt.sca(axes[row, column])\n",
    "    plt.imshow(frame, cmap = 'gray', origin = 'lower')\n",
    "    plt.title('event #' + str(i + start_index))\n",
    "    plt.xticks([])\n",
    "    plt.yticks([])\n",
    "plt.show()"
   ]
  },
  {
   "cell_type": "markdown",
   "metadata": {},
   "source": [
    "##### Video"
   ]
  },
  {
   "cell_type": "code",
   "execution_count": null,
   "metadata": {
    "collapsed": false,
    "scrolled": true
   },
   "outputs": [],
   "source": [
    "oi_index = 248\n",
    "oi_event = oi_events[oi_index]\n",
    "reload(oi_file)\n",
    "plt.close()\n",
    "\n",
    "#oi_file.make_animation(oi_vid, oi_event._detections[0]._tf, oi_event._detections[-1]._tf, oi_fps).save('test.mp4')\n",
    "HTML(oi_file.make_animation(oi_vid, oi_event._detections[0]._tf, oi_event._detections[-1]._tf, oi_fps).to_html5_video())"
   ]
  },
  {
   "cell_type": "markdown",
   "metadata": {},
   "source": [
    "## Define ellipse fitting functions"
   ]
  },
  {
   "cell_type": "code",
   "execution_count": null,
   "metadata": {
    "collapsed": true
   },
   "outputs": [],
   "source": [
    "#reload(image_processing)\n",
    "oi_index = 241\n",
    "oi_event = oi_events[oi_index]"
   ]
  },
  {
   "cell_type": "code",
   "execution_count": null,
   "metadata": {
    "collapsed": false,
    "scrolled": false
   },
   "outputs": [],
   "source": [
    "xc_left = 0\n",
    "xc_right = 150\n",
    "for j, detection in enumerate(oi_event._detections):\n",
    "    try:\n",
    "        x = int(detection._px)\n",
    "        y = int(detection._py)\n",
    "        xc, yc = oi_stage.get_channel_coordinates(x, y)\n",
    "        xc = oi_stage.pixels_to_meters(xc)\n",
    "\n",
    "        if xc >= xc_left and xc <= xc_right:\n",
    "\n",
    "            tf = detection._tf\n",
    "\n",
    "            frame = oi_vid.get_frame(tf)\n",
    "            template_frame = oi_vid.get_frame(template_index)\n",
    "\n",
    "            crop_distance = 30\n",
    "            crop_step = {'function': image_processing.crop_frame, 'kwargs': {'crop_distance': crop_distance}}\n",
    "\n",
    "            prenegative_steps = []\n",
    "            prenegative_steps.append({'function': image_processing.normalize, 'kwargs': {}})\n",
    "            prenegative_steps.append({'function': image_processing.gaussian_blur, 'kwargs': {'blur_kernel': (15, 15)}})\n",
    "\n",
    "\n",
    "            negative_step = {'function': image_processing.negative, 'kwargs': {'direction':'neg'}}\n",
    "\n",
    "\n",
    "            postnegative_steps = []\n",
    "            postnegative_steps.append({'function': image_processing.normalize, 'kwargs': {}})\n",
    "            postnegative_steps.append({'function': image_processing.gradient, 'kwargs': {}})\n",
    "            postnegative_steps.append({'function': image_processing.invert, 'kwargs': {}})\n",
    "            postnegative_steps.append({'function': image_processing.gaussian_threshold, 'kwargs': {'sigma_multiplier':0.5}})\n",
    "            postnegative_steps.append({'function': image_processing.largest_cluster, 'kwargs': {}})\n",
    "            #postnegative_steps.append({'function': image_processing.threshold_clusters, 'kwargs': {'cluster_threshold': 20}})\n",
    "            postnegative_steps.append({'function': image_processing.morphological_closing, 'kwargs': {'morph_kernel': (45,45)}})\n",
    "            postnegative_steps.append({'function': image_processing.erodesubtract, 'kwargs': {'iterations':3}})\n",
    "\n",
    "            processed_frame = process_frame(frame, template_frame, detection, debug = False)\n",
    "            fit_plot_ellipse(frame, processed_frame, crop_distance, detection, j, debug = True)\n",
    "\n",
    "\n",
    "\n",
    "        \n",
    "    except:\n",
    "        print 'failed on ', j, len(oi_event._detections)\n",
    "        exc_type, exc_obj, exc_tb = sys.exc_info()\n",
    "        fname = os.path.split(exc_tb.tb_frame.f_code.co_filename)[1]\n",
    "        print(exc_type, fname, exc_tb.tb_lineno)\n",
    "        pass\n",
    "    \n",
    "        "
   ]
  },
  {
   "cell_type": "markdown",
   "metadata": {
    "collapsed": true
   },
   "source": [
    "## Save fit"
   ]
  },
  {
   "cell_type": "code",
   "execution_count": null,
   "metadata": {
    "collapsed": true
   },
   "outputs": [],
   "source": [
    "def out_of_bounds(detection):\n",
    "    x_min = 20\n",
    "    x_max = res_x - 20\n",
    "    \n",
    "    y_min = 20\n",
    "    y_max = res_y - 20\n",
    "    \n",
    "    \n",
    "    out = False\n",
    "    if detection._px < x_min:\n",
    "        out = True\n",
    "        \n",
    "    if detection._px > x_max:\n",
    "        out = True\n",
    "        \n",
    "    if detection._py < y_min:\n",
    "        out = True\n",
    "        \n",
    "    if detection._py > y_max:\n",
    "        out = True\n",
    "    \n",
    "    \n",
    "    return out"
   ]
  },
  {
   "cell_type": "code",
   "execution_count": null,
   "metadata": {
    "collapsed": false
   },
   "outputs": [],
   "source": [
    "ellipsess = []\n",
    "for i, oi_event in enumerate(oi_events):\n",
    "    print 'i = ', i, '/', len(oi_events)\n",
    "\n",
    "    ellipsess.append([])\n",
    "    ellipses = ellipsess[-1]\n",
    "    \n",
    "    \n",
    "    \n",
    "    for j, detection in enumerate(oi_event._detections):\n",
    "        try:\n",
    "\n",
    "            \n",
    "            if out_of_bounds(detection) == False:\n",
    "\n",
    "\n",
    "                \n",
    "                tf = detection._tf\n",
    "\n",
    "                frame = oi_vid.get_frame(tf)\n",
    "                template_frame = oi_vid.get_frame(template_index)\n",
    "\n",
    "\n",
    "                processed_frame = process_frame(frame, template_frame, detection, debug = False)\n",
    "                ellipse = fit_plot_ellipse(frame, processed_frame, crop_distance, detection, j, debug = False)\n",
    "\n",
    "        \n",
    "                ellipses.append(ellipse)\n",
    "        \n",
    "        \n",
    "        \n",
    "        except:\n",
    "            #print 'failed on ', j, len(oi_event._detections)\n",
    "            exc_type, exc_obj, exc_tb = sys.exc_info()\n",
    "            fname = os.path.split(exc_tb.tb_frame.f_code.co_filename)[1]\n",
    "            #print(exc_type, fname, exc_tb.tb_lineno)\n",
    "            pass\n",
    "\n"
   ]
  },
  {
   "cell_type": "markdown",
   "metadata": {},
   "source": [
    "## Save"
   ]
  },
  {
   "cell_type": "code",
   "execution_count": null,
   "metadata": {
    "collapsed": false
   },
   "outputs": [],
   "source": [
    "output_base_path = oi_file.ellipse_base_path\n",
    "output_file_path = output_base_path + date + '/' + particle + '/' + channel + '/' + file_index + '/' + 'ellipses'\n",
    "print output_file_path"
   ]
  },
  {
   "cell_type": "code",
   "execution_count": null,
   "metadata": {
    "collapsed": false
   },
   "outputs": [],
   "source": [
    "preprocessing_steps = []\n",
    "\n",
    "for step in [crop_step] + prenegative_steps + [negative_step] + postnegative_steps:\n",
    "    preprocessing_steps.append([step['function'].__name__, step['kwargs']])\n",
    "    \n",
    "print preprocessing_steps"
   ]
  },
  {
   "cell_type": "code",
   "execution_count": null,
   "metadata": {
    "collapsed": false
   },
   "outputs": [],
   "source": [
    "with open(output_file_path, 'w') as file_handle:\n",
    "    file_writer = csv.writer(file_handle, delimiter = '\\t')\n",
    "    \n",
    "    # Write preprocessing steps\n",
    "    file_writer.writerow(preprocessing_steps)\n",
    "    \n",
    "    # Write ellipse info\n",
    "    file_writer.writerow(['detection index', 'ellipse center x', 'ellipse center y', 'ellipse axes x', 'ellipse axes y', 'ellipse angle'])\n",
    "    \n",
    "    # Write ellipse\n",
    "    for i, ellipses in enumerate(ellipsess):\n",
    "        file_writer.writerow(['event #', i])\n",
    "        for ellipse in ellipses:\n",
    "            file_writer.writerow(ellipse)"
   ]
  },
  {
   "cell_type": "code",
   "execution_count": null,
   "metadata": {
    "collapsed": true
   },
   "outputs": [],
   "source": []
  },
  {
   "cell_type": "code",
   "execution_count": null,
   "metadata": {
    "collapsed": true
   },
   "outputs": [],
   "source": []
  }
 ],
 "metadata": {
  "anaconda-cloud": {},
  "kernelspec": {
   "display_name": "Python [conda env:py27]",
   "language": "python",
   "name": "conda-env-py27-py"
  },
  "language_info": {
   "codemirror_mode": {
    "name": "ipython",
    "version": 2
   },
   "file_extension": ".py",
   "mimetype": "text/x-python",
   "name": "python",
   "nbconvert_exporter": "python",
   "pygments_lexer": "ipython2",
   "version": "2.7.12"
  }
 },
 "nbformat": 4,
 "nbformat_minor": 1
}
