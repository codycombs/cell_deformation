{
 "cells": [
  {
   "cell_type": "markdown",
   "metadata": {},
   "source": [
    "# Ellipse calculations"
   ]
  },
  {
   "cell_type": "markdown",
   "metadata": {},
   "source": [
    "## Imports"
   ]
  },
  {
   "cell_type": "code",
   "execution_count": null,
   "metadata": {
    "collapsed": true
   },
   "outputs": [],
   "source": [
    "# Python standard library\n",
    "import sys\n",
    "import csv\n",
    "\n",
    "\n",
    "# Scientific computing\n",
    "import numpy as np\n",
    "import cv2\n",
    "import matplotlib.pyplot as plt\n",
    "import scipy.ndimage\n",
    "import scipy.interpolate\n",
    "#import seaborn as sns\n",
    "\n",
    "\n",
    "# Program specific\n",
    "sys.path.append('/home/prestonh/Desktop/Research/pore_stats/pore_stats/oi/')\n",
    "import optical_imaging as oi\n",
    "import oi_file\n",
    "\n",
    "\n",
    "# Jupyter\n",
    "from IPython.display import HTML"
   ]
  },
  {
   "cell_type": "markdown",
   "metadata": {},
   "source": [
    "## Constants"
   ]
  },
  {
   "cell_type": "code",
   "execution_count": null,
   "metadata": {
    "collapsed": true
   },
   "outputs": [],
   "source": [
    "save_data = True\n",
    "save_plot = True\n",
    "\n",
    "nm = 10**(-9.)\n",
    "um = 10**(-6.)"
   ]
  },
  {
   "cell_type": "markdown",
   "metadata": {},
   "source": [
    "## Load video and events"
   ]
  },
  {
   "cell_type": "code",
   "execution_count": null,
   "metadata": {
    "collapsed": true
   },
   "outputs": [],
   "source": [
    "date = '10-10-2017'\n",
    "particle = '293-T_0'\n",
    "channel = '10-20-10_1'\n",
    "file_index = '0'\n",
    "\n",
    "base_path = oi_file.data_base_path\n",
    "\n",
    "oi_vid_file_path = base_path + date + '/' + particle + '/' + channel + '/oi/bin/test_camera_' + file_index\n",
    "oi_events_file_path = base_path + date + '/' + particle + '/' + channel + '/oi/events/test_camera_' + file_index + '_events.json'\n",
    "\n",
    "\n",
    "res_x = 384\n",
    "res_y = 112\n",
    "fps = 250000.\n",
    "exposure_time = .5*10**(-6.)"
   ]
  },
  {
   "cell_type": "code",
   "execution_count": null,
   "metadata": {
    "collapsed": false
   },
   "outputs": [],
   "source": [
    "# Load video\n",
    "oi_vid = oi_file.Video(oi_vid_file_path, res_x, res_y, fps)\n",
    "\n",
    "# Load events\n",
    "oi_events = oi_file.open_event_file_json(oi_events_file_path)"
   ]
  },
  {
   "cell_type": "markdown",
   "metadata": {},
   "source": [
    "## Output"
   ]
  },
  {
   "cell_type": "code",
   "execution_count": null,
   "metadata": {
    "collapsed": false
   },
   "outputs": [],
   "source": [
    "save_base_path = oi_file.ellipse_base_path + date + '/' + particle + '/' + channel + '/' + file_index\n",
    "\n",
    "print save_base_path"
   ]
  },
  {
   "cell_type": "markdown",
   "metadata": {},
   "source": [
    "# Create stage"
   ]
  },
  {
   "cell_type": "code",
   "execution_count": null,
   "metadata": {
    "collapsed": false
   },
   "outputs": [],
   "source": [
    "reload(oi)\n",
    "template_index = 100\n",
    "template_frame = oi_vid.get_frame(template_index)\n",
    "\n",
    "stage_file_path = base_path + '/' + date + '/' + particle + '/' + channel + '/oi/stage/stage_' + file_index\n",
    "cs = oi.load_stage_file(stage_file_path)\n",
    "\n",
    "c0 = cs[0]\n",
    "c1 = cs[1]\n",
    "c2 = cs[2]\n",
    "c3 = cs[3]\n",
    "\n",
    "oi_stage = oi.Stage(template_frame, c0, c1, c2, c3)\n",
    "oi_stage.plot_stage()"
   ]
  },
  {
   "cell_type": "markdown",
   "metadata": {},
   "source": [
    "## Load ellipses"
   ]
  },
  {
   "cell_type": "code",
   "execution_count": null,
   "metadata": {
    "collapsed": false
   },
   "outputs": [],
   "source": [
    "oi_ellipse_base_path = '../data/'\n",
    "oi_ellipse_path = oi_ellipse_base_path + '/' + date + '/' + particle + '/' + channel + '/' + file_index + '/ellipses'\n",
    "\n",
    "ellipsess = []\n",
    "\n",
    "\n",
    "with open(oi_ellipse_path, 'r') as file_handle:\n",
    "    file_reader = csv.reader(file_handle, delimiter = '\\t')\n",
    "    \n",
    "    # Skip header\n",
    "    header_length = 2\n",
    "    for i in range(header_length):\n",
    "        next(file_reader)\n",
    "        \n",
    "        \n",
    "    for row in file_reader:\n",
    "        \n",
    "        if row[0] == 'event #':\n",
    "            # New event\n",
    "            ellipsess.append([])\n",
    "            continue\n",
    "            \n",
    "        else:\n",
    "            ellipse = []\n",
    "            for ele in row:\n",
    "                try:\n",
    "                    ellipse.append(float(ele))\n",
    "                except:\n",
    "                    ellipse.append(0)\n",
    "                    \n",
    "            ellipsess[-1].append(ellipse)"
   ]
  },
  {
   "cell_type": "markdown",
   "metadata": {},
   "source": [
    "## Filter"
   ]
  },
  {
   "cell_type": "code",
   "execution_count": null,
   "metadata": {
    "collapsed": false
   },
   "outputs": [],
   "source": [
    "# Load keep indices\n",
    "filter_file_path = '../data/' + date + '/' + particle + '/' + channel + '/' + file_index + '/filter'\n",
    "\n",
    "with open(filter_file_path, 'r') as filter_file_handle:\n",
    "    filter_file_reader = csv.reader(filter_file_handle, delimiter = '\\t')\n",
    "    for row in filter_file_reader:\n",
    "        if row[0] == 'events':\n",
    "            keep_indices = [int(ele) for ele in row[1:]]\n",
    "\n",
    "print 'loaded keep indices (', len(keep_indices), 'events total):\\n', keep_indices\n",
    "filtered_oi_events = [oi_events[i] for i in range(len(oi_events)) if i in keep_indices]\n",
    "filtered_ellipsess = [ellipsess[i] for i in range(len(ellipsess)) if i in keep_indices]"
   ]
  },
  {
   "cell_type": "markdown",
   "metadata": {},
   "source": [
    "##### Manually remove"
   ]
  },
  {
   "cell_type": "code",
   "execution_count": null,
   "metadata": {
    "collapsed": false
   },
   "outputs": [],
   "source": [
    "manual_remove_indices = []\n",
    "oi_events = [filtered_oi_events[i] for i in range(len(filtered_oi_events)) if i not in manual_remove_indices]\n",
    "ellipsess = [filtered_ellipsess[i] for i in range(len(filtered_ellipsess)) if i not in manual_remove_indices]\n",
    "\n",
    "print 'Manually filtered', len(manual_remove_indices), 'events'"
   ]
  },
  {
   "cell_type": "markdown",
   "metadata": {},
   "source": [
    "## Calculations"
   ]
  },
  {
   "cell_type": "code",
   "execution_count": null,
   "metadata": {
    "collapsed": false
   },
   "outputs": [],
   "source": [
    "features = ['event_num', 'ellipse_num', 'tf', 'x_pix', 'xc_pix', 'xc_um', 'y_pix', 'yc_pix', 'yc_um', 'a_pix', 'a_um', 'b_pix', 'b_um', 'r_pix', 'r_um', 'aspect-ratio', 'theta_rad', 'speed_pix/frame', 'speed_m/s']\n",
    "output_file_path = save_base_path + '/calculations'\n",
    "\n",
    "with open(output_file_path, 'w') as output_file_handle:\n",
    "    output_writer = csv.writer(output_file_handle, delimiter = ',')\n",
    "\n",
    "    output_writer.writerow(features)\n",
    "\n",
    "    \n",
    "    for i, oi_event in enumerate(oi_events):\n",
    "\n",
    "        event_num = i\n",
    "\n",
    "        ellipses = ellipsess[i]\n",
    "        for j, ellipse in enumerate(ellipses):\n",
    "            ellipse_num = j\n",
    "\n",
    "            detection_num = int(ellipse[0])\n",
    "\n",
    "            tf = oi_events[event_num]._detections[detection_num]._tf\n",
    "\n",
    "            x_pix = ellipse[1]\n",
    "            y_pix = ellipse[2]\n",
    "            xc_pix, yc_pix = oi_stage.get_channel_coordinates(x_pix, y_pix)\n",
    "            xc_um = oi_stage.pixels_to_meters(xc_pix)\n",
    "            yc_um = oi_stage.pixels_to_meters(yc_pix)\n",
    "\n",
    "            a_pix = ellipse[3]\n",
    "            b_pix = ellipse[4]\n",
    "            a_um = oi_stage.pixels_to_meters(a_pix)\n",
    "            b_um = oi_stage.pixels_to_meters(b_pix)\n",
    "            r_pix = np.sqrt(a_pix*b_pix)\n",
    "            r_um = np.sqrt(a_um*b_um)\n",
    "\n",
    "            aspect_ratio = a_pix/b_pix\n",
    "\n",
    "            theta_rad = ellipse[5]\n",
    "\n",
    "\n",
    "            speed_pixperframe = 0\n",
    "            speed_mpers = 0\n",
    "            if (j != 0) and (j != (len(ellipsess[i]) - 1)):\n",
    "                ellipse_prev = ellipses[j-1]\n",
    "                ellipse_next = ellipses[j+1]\n",
    "\n",
    "                x_prev_pix = ellipse_prev[1]\n",
    "                y_prev_pix = ellipse_prev[2]\n",
    "\n",
    "                x_next_pix = ellipse_next[1]\n",
    "                y_next_pix = ellipse_next[2]\n",
    "\n",
    "                detection_num_prev = int(ellipse_prev[0])\n",
    "                detection_num_next = int(ellipse_next[0])\n",
    "\n",
    "                tf_prev = oi_events[event_num]._detections[detection_num_prev]._tf\n",
    "                tf_next = oi_events[event_num]._detections[detection_num_next]._tf\n",
    "\n",
    "                speed_pixperframe = (((x_next_pix - x_pix)**2. + (y_next_pix - y_pix)**2.)**.5 + \\\n",
    "                ((x_prev_pix - x_pix)**2. + (y_prev_pix - y_pix)**2.)**.5)/2.\n",
    "\n",
    "                speed_mpers = oi_stage.pixels_to_meters(speed_pixperframe)\n",
    "                speed_mpers = speed_mpers * fps\n",
    "\n",
    "\n",
    "            features = [event_num, ellipse_num, tf, x_pix, xc_pix, xc_um, y_pix, yc_pix, yc_um, a_pix, a_um,\\\n",
    "                        b_pix, b_um, r_pix, r_um, aspect_ratio, theta_rad, speed_pixperframe, speed_mpers]\n",
    "\n",
    "\n",
    "            output_writer.writerow(features)\n"
   ]
  },
  {
   "cell_type": "code",
   "execution_count": null,
   "metadata": {
    "collapsed": true
   },
   "outputs": [],
   "source": []
  }
 ],
 "metadata": {
  "anaconda-cloud": {},
  "kernelspec": {
   "display_name": "Python [conda env:py27]",
   "language": "python",
   "name": "conda-env-py27-py"
  },
  "language_info": {
   "codemirror_mode": {
    "name": "ipython",
    "version": 2
   },
   "file_extension": ".py",
   "mimetype": "text/x-python",
   "name": "python",
   "nbconvert_exporter": "python",
   "pygments_lexer": "ipython2",
   "version": "2.7.12"
  }
 },
 "nbformat": 4,
 "nbformat_minor": 1
}
