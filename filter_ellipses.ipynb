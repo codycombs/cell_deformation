{
 "cells": [
  {
   "cell_type": "markdown",
   "metadata": {},
   "source": [
    "# Imports"
   ]
  },
  {
   "cell_type": "code",
   "execution_count": null,
   "metadata": {
    "collapsed": true
   },
   "outputs": [],
   "source": [
    "# Python standard library\n",
    "import sys\n",
    "import csv\n",
    "\n",
    "# Scientific computing\n",
    "import numpy as np\n",
    "import cv2\n",
    "import matplotlib.pyplot as plt\n",
    "import scipy.ndimage\n",
    "\n",
    "# Program specific\n",
    "sys.path.append('/home/prestonh/Desktop/Research/pore_stats/pore_stats/rp/')\n",
    "sys.path.append('/home/prestonh/Desktop/Research/pore_stats/pore_stats/oi/')\n",
    "import resistive_pulse as rp\n",
    "import rp_file\n",
    "import optical_imaging as oi\n",
    "import oi_file\n",
    "\n",
    "\n",
    "# Jupyter\n",
    "from IPython.display import HTML"
   ]
  },
  {
   "cell_type": "markdown",
   "metadata": {},
   "source": [
    "# Load data"
   ]
  },
  {
   "cell_type": "code",
   "execution_count": null,
   "metadata": {
    "collapsed": false
   },
   "outputs": [],
   "source": [
    "date = '10-10-2017/'\n",
    "particle = '293-T_0/'\n",
    "channel = '10-20-10_3/'\n",
    "file_index = '0'\n",
    "\n",
    "base_path = '/home/prestonh/Desktop/Research/cancer_cells/data/'\n",
    "\n",
    "oi_vid_file_path = base_path + date + particle + channel + 'oi/bin/test_camera_' + file_index\n",
    "oi_events_file_path = base_path + date + particle + channel + 'oi/events/test_camera_' + file_index + '_events.json'"
   ]
  },
  {
   "cell_type": "code",
   "execution_count": null,
   "metadata": {
    "collapsed": false
   },
   "outputs": [],
   "source": [
    "# Load video\n",
    "res_x = 384\n",
    "res_y = 112\n",
    "oi_fps = 100000\n",
    "\n",
    "oi_vid = oi_file.Video(oi_vid_file_path, res_x, res_y, oi_fps)\n",
    "\n",
    "# Load events\n",
    "oi_events = oi_file.open_event_file_json(oi_events_file_path)"
   ]
  },
  {
   "cell_type": "code",
   "execution_count": null,
   "metadata": {
    "collapsed": false
   },
   "outputs": [],
   "source": [
    "print len(oi_events)"
   ]
  },
  {
   "cell_type": "markdown",
   "metadata": {},
   "source": [
    "##### Load ellipses"
   ]
  },
  {
   "cell_type": "code",
   "execution_count": null,
   "metadata": {
    "collapsed": false
   },
   "outputs": [],
   "source": [
    "oi_ellipse_base_path = '../data/'\n",
    "oi_ellipse_path = oi_ellipse_base_path + date + particle + channel + file_index + '/ellipses'\n",
    "\n",
    "ellipsess = []\n",
    "\n",
    "\n",
    "with open(oi_ellipse_path, 'r') as file_handle:\n",
    "    file_reader = csv.reader(file_handle, delimiter = '\\t')\n",
    "    \n",
    "    # Skip header\n",
    "    header_length = 2\n",
    "    for i in range(header_length):\n",
    "        next(file_reader)\n",
    "        \n",
    "        \n",
    "    for row in file_reader:\n",
    "        \n",
    "        if row[0] == 'event #':\n",
    "            # New event\n",
    "            ellipsess.append([])\n",
    "            continue\n",
    "            \n",
    "        else:\n",
    "            ellipse = []\n",
    "            for ele in row:\n",
    "                try:\n",
    "                    ellipse.append(float(ele))\n",
    "                except:\n",
    "                    ellipse.append(0)\n",
    "                    \n",
    "            ellipsess[-1].append(ellipse)"
   ]
  },
  {
   "cell_type": "markdown",
   "metadata": {},
   "source": [
    "# Load template and create stage"
   ]
  },
  {
   "cell_type": "code",
   "execution_count": null,
   "metadata": {
    "collapsed": false,
    "scrolled": true
   },
   "outputs": [],
   "source": [
    "template_index = 100\n",
    "\n",
    "template_frame = oi_vid.get_frame(template_index)\n",
    "\n",
    "plt.imshow(template_frame, cmap = 'gray', origin = 'lower')\n",
    "plt.show()"
   ]
  },
  {
   "cell_type": "code",
   "execution_count": null,
   "metadata": {
    "collapsed": false
   },
   "outputs": [],
   "source": [
    "reload(oi)\n",
    "template_frame = oi_vid.get_frame(template_index)\n",
    "\n",
    "stage_file_path = base_path + date + particle + channel + 'oi/stage/stage_' + file_index\n",
    "cs = oi.load_stage_file(stage_file_path)\n",
    "\n",
    "c0 = cs[0]\n",
    "c1 = cs[1]\n",
    "c2 = cs[2]\n",
    "c3 = cs[3]\n",
    "\n",
    "oi_stage = oi.Stage(template_frame, c0, c1, c2, c3)\n",
    "oi_stage.plot_stage()"
   ]
  },
  {
   "cell_type": "markdown",
   "metadata": {},
   "source": [
    "# Begin filtering"
   ]
  },
  {
   "cell_type": "code",
   "execution_count": null,
   "metadata": {
    "collapsed": true
   },
   "outputs": [],
   "source": [
    "filtering_steps = {}"
   ]
  },
  {
   "cell_type": "markdown",
   "metadata": {},
   "source": [
    "### Channel enter exit based filtering"
   ]
  },
  {
   "cell_type": "code",
   "execution_count": null,
   "metadata": {
    "collapsed": false
   },
   "outputs": [],
   "source": [
    "keep_indices_enter_exit = []\n",
    "\n",
    "for i, oi_event in enumerate(oi_events):\n",
    "    try:\n",
    "        xs = []\n",
    "        ys = []\n",
    "\n",
    "        for j, ellipse in enumerate(ellipsess[i]):\n",
    "            xs.append(ellipse[1])\n",
    "            ys.append(ellipse[2])\n",
    "\n",
    "        xcs, ycs = oi_stage.get_channel_coordinates(xs, ys)\n",
    "        xcs = oi_stage.pixels_to_meters(xcs)\n",
    "        ycs = oi_stage.pixels_to_meters(ycs)\n",
    "\n",
    "        if xcs.min() < 0 and xcs.max() > oi_stage._length_microns:\n",
    "            keep_indices_enter_exit.append(i)\n",
    "            \n",
    "    except:\n",
    "        # Catch-all: Do not append this element to the keep_indices_enter_exit list;\n",
    "        #            This will prevent it from being analyzed.\n",
    "        print 'failed on', i\n",
    "        pass"
   ]
  },
  {
   "cell_type": "code",
   "execution_count": null,
   "metadata": {
    "collapsed": false
   },
   "outputs": [],
   "source": [
    "filtering_steps['channel enter exit'] = [True]\n",
    "\n",
    "print 'length before', len(oi_events), 'length after', len(keep_indices_enter_exit)\n",
    "print\n",
    "print 'events filtered by entrance/exit', [i for i in range(len(ellipsess)) if i not in keep_indices_enter_exit]"
   ]
  },
  {
   "cell_type": "code",
   "execution_count": null,
   "metadata": {
    "collapsed": false
   },
   "outputs": [],
   "source": [
    "oi_index = 0\n",
    "reload(oi_file)\n",
    "plt.close()\n",
    "HTML(oi_file.make_animation(oi_vid, oi_events[oi_index]._detections[0]._tf, oi_events[oi_index]._detections[-1]._tf, oi_index).to_html5_video())"
   ]
  },
  {
   "cell_type": "markdown",
   "metadata": {},
   "source": [
    "## Geometry based filtering"
   ]
  },
  {
   "cell_type": "code",
   "execution_count": null,
   "metadata": {
    "collapsed": false,
    "scrolled": false
   },
   "outputs": [],
   "source": [
    "# Define left and right bounds that particle must be between for fitting its radius and aspect\n",
    "xc_left = -50\n",
    "xc_right = 0\n",
    "\n",
    "yc_top = 50\n",
    "yc_bottom = -50\n",
    "\n",
    "\n",
    "\n",
    "effective_radii = []\n",
    "effective_radius_max = 30\n",
    "\n",
    "aspect_ratios = []\n",
    "aspect_ratio_max = 3\n",
    "\n",
    "\n",
    "\n",
    "for i, oi_event in enumerate(oi_events):\n",
    "  \n",
    "    aspect_ratio = 0\n",
    "    effective_radius = 0\n",
    "    for j, ellipse in enumerate(ellipsess[i]):\n",
    "        \n",
    "        x = ellipse[1]\n",
    "        y = ellipse[2]\n",
    "        \n",
    "        xc, yc = oi_stage.get_channel_coordinates(x, y)\n",
    "        xc = oi_stage.pixels_to_meters(xc)\n",
    "        yc = oi_stage.pixels_to_meters(yc)\n",
    "        \n",
    "        \n",
    "        \n",
    "        \n",
    "        if xc > xc_left and xc < xc_right and yc > yc_bottom and yc < yc_top:\n",
    "            \n",
    "            #plt.imshow(oi_vid.get_frame(oi_event._detections[int(ellipse[0])]._tf), cmap = 'gray', origin = 'lower')\n",
    "            #plt.show()\n",
    "            \n",
    "            ax0 = ellipse[3]\n",
    "            ax1 = ellipse[4]\n",
    "            \n",
    "            a = oi_stage.pixels_to_meters(ax0)\n",
    "            b = oi_stage.pixels_to_meters(ax1)\n",
    "            \n",
    "            aspect_ratio = a/b\n",
    "\n",
    "            effective_radius = np.sqrt(a*b)\n",
    "        \n",
    "            break\n",
    "            \n",
    "            \n",
    "    # Catch bad values\n",
    "    if effective_radius > effective_radius_max or np.isnan(effective_radius) or np.isinf(effective_radius):\n",
    "        print i\n",
    "        effective_radius = 0\n",
    "    \n",
    "    \n",
    "    \n",
    "    if np.isnan(aspect_ratio) or np.isinf(aspect_ratio) or aspect_ratio > aspect_ratio_max:\n",
    "        aspect_ratio = 0\n",
    "    \n",
    "    \n",
    "        \n",
    "    # Append values to lists        \n",
    "    effective_radii.append(effective_radius)\n",
    "    aspect_ratios.append(aspect_ratio)\n",
    "    \n",
    "            \n",
    "            \n",
    "plt.hist(effective_radii, bins = 50)\n",
    "plt.title('effective radius')\n",
    "plt.grid()\n",
    "plt.show()\n",
    "            \n",
    "plt.hist(aspect_ratios, bins = 50)\n",
    "plt.title('aspect ratios')\n",
    "plt.grid()\n",
    "plt.show()      "
   ]
  },
  {
   "cell_type": "markdown",
   "metadata": {},
   "source": [
    "## Filter size"
   ]
  },
  {
   "cell_type": "code",
   "execution_count": null,
   "metadata": {
    "collapsed": false,
    "scrolled": false
   },
   "outputs": [],
   "source": [
    "# Filter size\n",
    "radius_min = 5\n",
    "radius_max = 11\n",
    "\n",
    "filtering_steps['effective radius'] = [radius_min, radius_max]\n",
    "\n",
    "keep_indices_radius = [i for i in range(len(effective_radii)) if ((effective_radii[i] > radius_min) and (effective_radii[i] < radius_max))]\n",
    "\n",
    "\n",
    "# Filter aspect\n",
    "\n",
    "aspect_min = 0.75\n",
    "aspect_max = 1.25\n",
    "\n",
    "filtering_steps['aspect ratio'] = [aspect_min, aspect_max]\n",
    "\n",
    "keep_indices_aspect = [i for i in range(len(aspect_ratios)) if ((aspect_ratios[i] > aspect_min) and (aspect_ratios[i] < aspect_max))]\n",
    "\n",
    "\n",
    "\n",
    "# Histograms\n",
    "plt.hist(np.array(effective_radii)[keep_indices_radius], bins = 20)\n",
    "plt.title('effective radius')\n",
    "plt.show()\n",
    "            \n",
    "plt.hist(np.array(aspect_ratios)[keep_indices_aspect], bins = 20)\n",
    "plt.title('aspect ratios')\n",
    "plt.show()  \n",
    "\n",
    "\n",
    "\n",
    "\n",
    "# Print\n",
    "\n",
    "print ('radius filtering ' + str(len(oi_events) - len(keep_indices_radius)) + '/' + str(len(oi_events)))\n",
    "\n",
    "print\n",
    "\n",
    "print 'indexes sorted by radius\\n', [ele for ele in np.argsort(effective_radii) if ele in keep_indices_radius]\n",
    "\n",
    "print \n",
    "\n",
    "print ('aspect ratio filtering ' + str(len(oi_events) - len(keep_indices_aspect)) + '/' + str(len(oi_events)))\n",
    "\n",
    "print\n",
    "\n",
    "print 'indexes sorted by aspect\\n', [ele for ele in np.argsort(aspect_ratios) if ele in keep_indices_aspect]\n",
    "\n",
    "print\n",
    "\n",
    "\n",
    "print ('events filtered by radius (sorted by size):')\n",
    "effective_radii_tuple = [(i, effective_radii[i]) for i in range(len(effective_radii)) if i not in keep_indices_radius]\n",
    "print([tuple[0] for tuple in sorted(effective_radii_tuple, key = lambda effective_radius_tuple: effective_radius_tuple[1])])\n",
    "\n",
    "print\n",
    "\n",
    "print ('events filtered by aspect:')\n",
    "print([i for i in range(len(oi_events)) if i not in keep_indices_aspect])\n",
    "\n",
    "print\n",
    "\n",
    "print('events filtered out by size but kept by aspect:')\n",
    "print([i for i in range(len(oi_events)) if (i in keep_indices_aspect) and (i not in keep_indices_radius)])\n",
    "\n",
    "print\n",
    "\n",
    "\n",
    "print('events filtered out by aspect but kept by size:')\n",
    "print([i for i in range(len(oi_events)) if (i not in keep_indices_aspect) and (i in keep_indices_radius)])\n",
    "\n",
    "print\n",
    "\n",
    "\n",
    "    \n"
   ]
  },
  {
   "cell_type": "code",
   "execution_count": null,
   "metadata": {
    "collapsed": false
   },
   "outputs": [],
   "source": [
    "oi_index = 4\n",
    "print 'radius:', effective_radii[oi_index]\n",
    "print 'aspect:', aspect_ratios[oi_index]\n",
    "\n",
    "oi_event = oi_events[oi_index]\n",
    "ts = oi_event.get_tf()\n",
    "t = int((ts[-1] + ts[0])/2.)\n",
    "detection_index = t - ts[0]\n",
    "detection = oi_event._detections[detection_index]\n",
    "x = detection._px\n",
    "y = detection._py\n",
    "frame = oi_vid.get_frame(t)\n",
    "plt.scatter(x, y, marker = 'x', s = 100, color = 'red', lw = 0.5)\n",
    "\n",
    "plt.imshow(frame, cmap = 'gray', origin = 'lower')\n",
    "plt.show()"
   ]
  },
  {
   "cell_type": "code",
   "execution_count": null,
   "metadata": {
    "collapsed": false
   },
   "outputs": [],
   "source": [
    "print oi_stage._c0\n",
    "print oi_stage._c1\n",
    "print oi_stage._c2\n",
    "print oi_stage._c3"
   ]
  },
  {
   "cell_type": "code",
   "execution_count": null,
   "metadata": {
    "collapsed": false
   },
   "outputs": [],
   "source": [
    "#oi_index = 799\n",
    "print 'radius = ', effective_radii[oi_index]\n",
    "print 'aspect = ', aspect_ratios[oi_index]\n",
    "reload(oi_file)\n",
    "plt.close()\n",
    "HTML(oi_file.make_animation(oi_vid, oi_events[oi_index]._detections[0]._tf, oi_events[oi_index]._detections[-1]._tf, oi_fps).to_html5_video())"
   ]
  },
  {
   "cell_type": "markdown",
   "metadata": {},
   "source": [
    "### y-based filtering"
   ]
  },
  {
   "cell_type": "code",
   "execution_count": null,
   "metadata": {
    "collapsed": false
   },
   "outputs": [],
   "source": [
    "# Central cavity y-based filtering\n",
    "\n",
    "yc_middles = []\n",
    "yc_failed_indices = []\n",
    "\n",
    "# Set yc_middle_min and max... These are bounds that we do not accept events outside of. Usually if there is\n",
    "# a really bad fit, the detected yc value could be something like -60. This is unphysical, so we \n",
    "# manually introduce yc_middle_min and yc_middle_max to filter out unphysical values.\n",
    "yc_middle_min = -25\n",
    "yc_middle_max = 25\n",
    "\n",
    "for i, oi_event in enumerate(oi_events):\n",
    "    \n",
    "    try:\n",
    "        # Calculation sometimes fails, put in a 'try' block\n",
    "        \n",
    "        \n",
    "        # Get positions of ellipses and convert to channel micron units\n",
    "        xs = [ellipse[1] for ellipse in ellipsess[i]]\n",
    "        ys = [ellipse[2] for ellipse in ellipsess[i]]\n",
    "    \n",
    "        \n",
    "        xcs, ycs = oi_stage.get_channel_coordinates(xs, ys)\n",
    "        xcs = oi_stage.pixels_to_meters(xcs)\n",
    "        ycs = oi_stage.pixels_to_meters(ycs)\n",
    "        \n",
    "\n",
    "        # Interpolate the indices of x-positions\n",
    "        is_interp = scipy.interpolate.interp1d(xcs, range(len(xcs)))\n",
    "    \n",
    "    \n",
    "        # Get the index closest to the middle of the channel\n",
    "        i_middle = int(is_interp(oi_stage._length_microns/2.))\n",
    "        \n",
    "        \n",
    "        \n",
    "        yc_middle = ycs[i_middle]\n",
    "        \n",
    "        \n",
    "        if yc_middle > yc_middle_max or yc_middle < yc_middle_min:\n",
    "            # The determined yc_middle is outside the manual bounds we set above; raise a ValueError\n",
    "            # to exit try statement and go to except.\n",
    "            print 'value error'\n",
    "            raise ValueError\n",
    "    \n",
    "        yc_middles.append(ycs[i_middle])\n",
    "        \n",
    "    except:\n",
    "        # Calculation failed, add the index to the yc_failed_indices which will automatically be rejected\n",
    "        # later on.\n",
    "        print 'failed', i\n",
    "        yc_failed_indices.append(i)\n",
    "        yc_middles.append(-500)\n",
    "    \n",
    "\n",
    "\n",
    "\n",
    "    \n",
    "# Apply offset to y so centered at 0... only count the successes\n",
    "yc_middles = np.array(yc_middles)\n",
    "yc_success_indices = np.array([i for i in range(len(oi_events)) if i not in yc_failed_indices])\n",
    "offset = -(np.max(yc_middles[yc_success_indices]) - np.abs(np.min(yc_middles[yc_success_indices])))/2.\n",
    "yc_middles = np.array(yc_middles)\n",
    "yc_middles = yc_middles + offset\n",
    "\n",
    "\n",
    "\n",
    "# Plot hist of all ys\n",
    "plt.hist(yc_middles[yc_success_indices], bins = 20)\n",
    "plt.xlabel('yc')\n",
    "plt.show()\n",
    "\n"
   ]
  },
  {
   "cell_type": "code",
   "execution_count": null,
   "metadata": {
    "collapsed": false
   },
   "outputs": [],
   "source": [
    "yc_threshold = 3\n",
    "filtering_steps['yc cavity threshold'] = [yc_threshold]\n",
    "\n",
    "keep_indices_y = np.where(np.abs(yc_middles) <= yc_threshold)[0]\n",
    "keep_indices_y = [keep_index_y for keep_index_y in keep_indices_y if keep_index_y not in yc_failed_indices]\n",
    "\n",
    "print 'length before', len(oi_events), 'length after', len(keep_indices_y)\n",
    "print\n",
    "print 'events filtered by y', [i for i in range(len(ellipsess)) if i not in keep_indices_y]\n",
    "print\n",
    "print 'events kept by y', [i for i in range(len(ellipsess)) if i in keep_indices_y]"
   ]
  },
  {
   "cell_type": "code",
   "execution_count": null,
   "metadata": {
    "collapsed": false
   },
   "outputs": [],
   "source": [
    "oi_index = 1418\n",
    "print 'radius', effective_radii[oi_index]\n",
    "print 'aspect', aspect_ratios[oi_index]\n",
    "print 'yc middle', yc_middles[oi_index]\n",
    "reload(oi_file)\n",
    "plt.close()\n",
    "HTML(oi_file.make_animation(oi_vid, oi_events[oi_index]._detections[0]._tf, oi_events[oi_index]._detections[-1]._tf, oi_index).to_html5_video())"
   ]
  },
  {
   "cell_type": "markdown",
   "metadata": {},
   "source": [
    "## Manual filtering\n",
    "- Inspect the events that haven't been filtered out yet to make sure they are good.\n",
    "- Add undesirable events to the 'manual_remove_indices' list"
   ]
  },
  {
   "cell_type": "code",
   "execution_count": null,
   "metadata": {
    "collapsed": false
   },
   "outputs": [],
   "source": [
    "keep_indices = [i for i in range(len(oi_events)) if ((i in keep_indices_enter_exit)\\\n",
    "                                                     and (i in keep_indices_radius)\\\n",
    "                                                     and (i in keep_indices_aspect)\\\n",
    "                                                     and (i in keep_indices_y))]\n",
    "\n",
    "print 'keeping', len(keep_indices), '/', len(ellipsess), 'events before manual removal'\n",
    "print 'events to be kept:', keep_indices"
   ]
  },
  {
   "cell_type": "markdown",
   "metadata": {},
   "source": [
    "##### Inspect frame"
   ]
  },
  {
   "cell_type": "code",
   "execution_count": null,
   "metadata": {
    "collapsed": false
   },
   "outputs": [],
   "source": [
    "oi_index = 50\n",
    "oi_event = oi_events[oi_index]\n",
    "detection_index = int(len(oi_event._detections)/2.)\n",
    "t = oi_event._detections[detection_index]._tf\n",
    "frame = oi_vid.get_frame(t)\n",
    "plt.imshow(frame, cmap = 'gray', origin = 'lower')\n",
    "\n",
    "\n",
    "plt.scatter(oi_event._detections[detection_index]._px, oi_event._detections[detection_index]._py,\\\n",
    "            marker = 'x', c = 'red', lw = 3, s = 25)\n",
    "plt.show()"
   ]
  },
  {
   "cell_type": "markdown",
   "metadata": {},
   "source": [
    "##### Inspect video"
   ]
  },
  {
   "cell_type": "code",
   "execution_count": null,
   "metadata": {
    "collapsed": false
   },
   "outputs": [],
   "source": [
    "oi_index = 212\n",
    "\n",
    "print 'radius:', effective_radii[oi_index]\n",
    "print 'aspect:', aspect_ratios[oi_index]\n",
    "print 'yc:', yc_middles[oi_index]\n",
    "\n",
    "reload(oi_file)\n",
    "plt.close()\n",
    "HTML(oi_file.make_animation(oi_vid, oi_events[oi_index]._detections[0]._tf, oi_events[oi_index]._detections[-1]._tf, oi_index).to_html5_video())"
   ]
  },
  {
   "cell_type": "code",
   "execution_count": null,
   "metadata": {
    "collapsed": false
   },
   "outputs": [],
   "source": [
    "manual_remove_indices = []\n",
    "\n",
    "filtering_steps['manual removal'] = [len(manual_remove_indices)]\n",
    "\n",
    "print 'manually removing indices', manual_remove_indices\n",
    "\n",
    "keep_indices_manual = [i for i in range(len(oi_events)) if i not in manual_remove_indices]"
   ]
  },
  {
   "cell_type": "markdown",
   "metadata": {},
   "source": [
    "## Filtering step"
   ]
  },
  {
   "cell_type": "code",
   "execution_count": null,
   "metadata": {
    "collapsed": false
   },
   "outputs": [],
   "source": [
    "keep_indices = [i for i in range(len(oi_events)) if ((i in keep_indices_enter_exit)\\\n",
    "                                                     and (i in keep_indices_radius)\\\n",
    "                                                     and (i in keep_indices_aspect)\\\n",
    "                                                     and (i in keep_indices_y)\\\n",
    "                                                    and (i in keep_indices_manual))]\n",
    "\n",
    "\n",
    "print(keep_indices)\n",
    "print('filtering ' + str(len(oi_events) - len(keep_indices)) + ' out of ' + str(len(oi_events)) + ' events')"
   ]
  },
  {
   "cell_type": "markdown",
   "metadata": {},
   "source": [
    "# Save\n",
    "- Save the filtering parameters as well as the indices of the events to be kept"
   ]
  },
  {
   "cell_type": "markdown",
   "metadata": {},
   "source": [
    "### Save filtering parameters and indices"
   ]
  },
  {
   "cell_type": "code",
   "execution_count": null,
   "metadata": {
    "collapsed": false
   },
   "outputs": [],
   "source": [
    "output_file_path = '../data/' + date + particle + channel + file_index + '/filter'\n",
    "print 'saving to ', output_file_path\n",
    "\n",
    "\n",
    "with open(output_file_path, 'w') as file_handle:\n",
    "    file_writer = csv.writer(file_handle, delimiter = '\\t')\n",
    "    \n",
    "    \n",
    "    # Write filtering steps\n",
    "    for filtering_step in filtering_steps:\n",
    "        file_writer.writerow(['filter step', filtering_step, filtering_steps[filtering_step]])\n",
    "        \n",
    "    file_writer.writerow(['events'] + keep_indices)"
   ]
  },
  {
   "cell_type": "code",
   "execution_count": null,
   "metadata": {
    "collapsed": true
   },
   "outputs": [],
   "source": []
  },
  {
   "cell_type": "code",
   "execution_count": null,
   "metadata": {
    "collapsed": true
   },
   "outputs": [],
   "source": []
  }
 ],
 "metadata": {
  "anaconda-cloud": {},
  "kernelspec": {
   "display_name": "Python [conda env:py27]",
   "language": "python",
   "name": "conda-env-py27-py"
  },
  "language_info": {
   "codemirror_mode": {
    "name": "ipython",
    "version": 2
   },
   "file_extension": ".py",
   "mimetype": "text/x-python",
   "name": "python",
   "nbconvert_exporter": "python",
   "pygments_lexer": "ipython2",
   "version": "2.7.12"
  }
 },
 "nbformat": 4,
 "nbformat_minor": 1
}
