{
 "cells": [
  {
   "cell_type": "markdown",
   "metadata": {},
   "source": [
    "# Imports"
   ]
  },
  {
   "cell_type": "code",
   "execution_count": null,
   "metadata": {
    "collapsed": true
   },
   "outputs": [],
   "source": [
    "# Python standard library\n",
    "import sys\n",
    "\n",
    "# Scientific computing\n",
    "import numpy as np\n",
    "import cv2\n",
    "import matplotlib.pyplot as plt\n",
    "import scipy.ndimage\n",
    "\n",
    "# Program specific\n",
    "sys.path.append('/home/prestonh/Desktop/Research/pore_stats/pore_stats/oi/')\n",
    "import optical_imaging as oi\n",
    "import oi_file\n",
    "\n",
    "\n",
    "# Jupyter\n",
    "from IPython.display import HTML"
   ]
  },
  {
   "cell_type": "markdown",
   "metadata": {},
   "source": [
    "# Load data"
   ]
  },
  {
   "cell_type": "code",
   "execution_count": null,
   "metadata": {
    "collapsed": true
   },
   "outputs": [],
   "source": [
    "date = '7-7-2017/'\n",
    "particle = '293-T/'\n",
    "channel = '17p5-35-17p5_0/'\n",
    "file_index = '0'\n",
    "\n",
    "base_path = '/home/prestonh/Desktop/Research/cancer_cells/data/'\n",
    "\n",
    "oi_vid_file_path = base_path + date + particle + channel + 'oi/bin/test_camera_' + file_index\n",
    "oi_events_file_path = base_path + date + particle + channel + 'oi/events/test_camera_' + file_index + '_events.json'"
   ]
  },
  {
   "cell_type": "code",
   "execution_count": null,
   "metadata": {
    "collapsed": false
   },
   "outputs": [],
   "source": [
    "# Load video\n",
    "oi_vid = oi_file.Video(oi_vid_file_path, 512, 288, 100000)\n",
    "\n",
    "# Load events\n",
    "oi_events = oi_file.open_event_file_json(oi_events_file_path)"
   ]
  },
  {
   "cell_type": "markdown",
   "metadata": {
    "collapsed": true
   },
   "source": [
    "# Load template and create stage"
   ]
  },
  {
   "cell_type": "code",
   "execution_count": null,
   "metadata": {
    "collapsed": false
   },
   "outputs": [],
   "source": [
    "template_index = 0\n",
    "\n",
    "template_frame = oi_vid.get_frame(template_index)\n",
    "\n",
    "plt.imshow(template_frame, cmap = 'gray', origin = 'lower')\n",
    "plt.show()"
   ]
  },
  {
   "cell_type": "code",
   "execution_count": null,
   "metadata": {
    "collapsed": false
   },
   "outputs": [],
   "source": [
    "reload(oi)\n",
    "template_index = 0\n",
    "template_frame = oi_vid.get_frame(template_index)\n",
    "c0 = [133, 95]\n",
    "c1 = [133, 55]\n",
    "c2 = [377, 55] \n",
    "c3 = [377, 95]\n",
    "oi_stage = oi.Stage(template_frame, c0, c1, c2, c3)\n",
    "oi_stage.plot_stage()"
   ]
  },
  {
   "cell_type": "markdown",
   "metadata": {},
   "source": [
    "# Find a good event"
   ]
  },
  {
   "cell_type": "code",
   "execution_count": null,
   "metadata": {
    "collapsed": false
   },
   "outputs": [],
   "source": [
    "oi_index = 3\n",
    "reload(oi_file)\n",
    "plt.close()\n",
    "HTML(oi_file.make_animation(oi_vid, oi_events[oi_index]._detections[0]._tf, oi_events[oi_index]._detections[-1]._tf).to_html5_video())"
   ]
  },
  {
   "cell_type": "code",
   "execution_count": null,
   "metadata": {
    "collapsed": false
   },
   "outputs": [],
   "source": [
    "oi_event = oi_events[3]\n",
    "detection = oi_event._detections[50]\n",
    "raw_frame = oi_vid.get_frame(detection._tf)\n",
    "\n",
    "plt.imshow(raw_frame, cmap = 'gray', origin = 'lower')\n",
    "plt.show()"
   ]
  },
  {
   "cell_type": "code",
   "execution_count": null,
   "metadata": {
    "collapsed": false
   },
   "outputs": [],
   "source": [
    "x0 = detection._px- 30\n",
    "x1 = detection._px + 30\n",
    "y0 = detection._py - 30\n",
    "y1 = detection._py + 30\n",
    "plt.imshow(raw_frame[y0:y1, x0:x1], cmap = 'gray', origin = 'lower', interpolation = 'none')\n",
    "plt.show()"
   ]
  },
  {
   "cell_type": "markdown",
   "metadata": {},
   "source": [
    "# Plotting functions"
   ]
  },
  {
   "cell_type": "code",
   "execution_count": null,
   "metadata": {
    "collapsed": true
   },
   "outputs": [],
   "source": [
    "def plot_frame(frame, show = True):\n",
    "    plt.imshow(frame, cmap = 'gray', origin = 'lower', interpolation = 'none')\n",
    "    \n",
    "    if show:\n",
    "        plt.show()\n",
    "    \n",
    "def plot_processed_over_raw(processed_frame, frame, show = True):\n",
    "    green_processed_frame = np.zeros((processed_frame.shape[0], processed_frame.shape[1], 3))\n",
    "    green_processed_frame[:,:,1] = processed_frame\n",
    "\n",
    "    plt.imshow(frame, cmap = 'gray', origin = 'lower', alpha = 1, interpolation = 'none')\n",
    "    plt.imshow(green_processed_frame, cmap = 'gray', origin = 'lower', alpha = 0.15, interpolation = 'none')\n",
    "\n",
    "    if show:\n",
    "        plt.show()\n",
    "    \n",
    "def plot_frame_hist(frame, show = True):\n",
    "    plt.hist(frame.flatten(), facecolor = 'k', bins = 100)\n",
    "    \n",
    "    if show:\n",
    "        plt.show()\n",
    "    \n",
    "def plot_all(processed_frame, frame):\n",
    "    fig, axes = plt.subplots(1,3,figsize = (12,3))\n",
    "    \n",
    "    # Plot 1\n",
    "    plt.sca(axes[0])\n",
    "    plot_frame(processed_frame, show = False)\n",
    "    \n",
    "    \n",
    "    # Plot 2\n",
    "    plt.sca(axes[1])\n",
    "    plot_processed_over_raw(processed_frame, frame, show = False)\n",
    "    \n",
    "    # Plot 3\n",
    "    plt.sca(axes[2])\n",
    "    plot_frame_hist(processed_frame, show = False)\n",
    "    \n",
    "    plt.show()\n",
    "    \n",
    "    "
   ]
  },
  {
   "cell_type": "markdown",
   "metadata": {},
   "source": [
    "# Inverted thresholding"
   ]
  },
  {
   "cell_type": "code",
   "execution_count": null,
   "metadata": {
    "collapsed": false,
    "scrolled": false
   },
   "outputs": [],
   "source": [
    "# Crop raw frame\n",
    "x0 = detection._px - 30\n",
    "x1 = detection._px + 30\n",
    "y0 = detection._py - 30\n",
    "y1 = detection._py + 30\n",
    "frame = np.copy(raw_frame[y0:y1, x0:x1])\n",
    "\n",
    "# Copy\n",
    "print 'copy'\n",
    "processed_frame = np.copy(frame)\n",
    "plot_all(processed_frame, frame)\n",
    "\n",
    "# Blur\n",
    "print 'gaussian blur'\n",
    "window = (5,5)\n",
    "processed_frame = cv2.GaussianBlur(processed_frame, window, 0)\n",
    "plot_all(processed_frame, frame)\n",
    "\n",
    "# Rescale\n",
    "print 'rescale'\n",
    "processed_frame = (processed_frame - np.min(processed_frame))/(np.max(processed_frame) - np.min(processed_frame))\n",
    "plot_all(processed_frame, frame)\n",
    "\n",
    "\n",
    "# Inverted threshold\n",
    "print 'inverted threshold'\n",
    "threshold = 0.575\n",
    "above_indices = np.where(processed_frame > threshold)\n",
    "below_indices = np.where(processed_frame <= threshold)\n",
    "\n",
    "processed_frame[above_indices[0], above_indices[1]] = 0\n",
    "processed_frame[below_indices[0], below_indices[1]] = 1\n",
    "\n",
    "plot_all(processed_frame, frame)\n",
    "\n",
    "\n",
    "\n",
    "\n",
    "\n",
    "\n",
    "\n",
    "# Morphological closing\n",
    "print 'morphological closing'\n",
    "kernel = cv2.getStructuringElement(cv2.MORPH_ELLIPSE,(10,10))\n",
    "processed_frame = cv2.morphologyEx(np.array(processed_frame, dtype = np.uint8), cv2.MORPH_CLOSE, kernel)\n",
    "plot_all(processed_frame, frame)"
   ]
  },
  {
   "cell_type": "markdown",
   "metadata": {},
   "source": [
    "# Negative thresholding"
   ]
  },
  {
   "cell_type": "code",
   "execution_count": null,
   "metadata": {
    "collapsed": false,
    "scrolled": false
   },
   "outputs": [],
   "source": [
    "print 'absolute value difference'\n",
    "\n",
    "\n",
    "\n",
    "# Crop raw frame\n",
    "x0 = detection._px - 30\n",
    "x1 = detection._px + 30\n",
    "y0 = detection._py - 30\n",
    "y1 = detection._py + 30\n",
    "frame = raw_frame[y0:y1, x0:x1]\n",
    "\n",
    "# Copy\n",
    "print 'copy'\n",
    "processed_frame = 1.*frame\n",
    "plot_frame(processed_frame, x0, x1, y0, y1)\n",
    "plot_processed_over_raw(processed_frame, frame, x0, x1, y0, y1)\n",
    "\n",
    "# Negative\n",
    "print 'negative'\n",
    "processed_frame = np.abs(frame - template_frame[y0:y1, x0:x1])\n",
    "plot_frame(processed_frame, x0, x1, y0, y1)\n",
    "plot_processed_over_raw(processed_frame, frame, x0, x1, y0, y1)\n",
    "\n",
    "# Blur\n",
    "print 'gaussian blur'\n",
    "window = (3,3)\n",
    "processed_frame = cv2.GaussianBlur(processed_frame, window, 0)\n",
    "plot_frame(processed_frame, x0, x1, y0, y1)\n",
    "plot_processed_over_raw(processed_frame, frame, x0, x1, y0, y1)\n",
    "\n",
    "# Threshold\n",
    "print 'threshold'\n",
    "threshold = .0045\n",
    "processed_frame[processed_frame > threshold] = 1\n",
    "processed_frame[processed_frame <= threshold] = 0\n",
    "plot_frame(processed_frame, x0, x1, y0, y1)\n",
    "plot_processed_over_raw(processed_frame, frame, x0, x1, y0, y1)\n",
    "\n",
    "\n",
    "\n",
    "\n",
    "\n",
    "# Erode subtraction\n",
    "print 'erode subtraction'\n",
    "processed_frame = processed_frame - scipy.ndimage.morphology.binary_erosion(processed_frame, iterations = 1)\n",
    "plot_frame(processed_frame, x0, x1, y0, y1)\n",
    "plot_processed_over_raw(processed_frame, frame, x0, x1, y0, y1)\n",
    "\n",
    "# Fill holes\n",
    "print 'fill holes'\n",
    "processed_frame = scipy.ndimage.binary_fill_holes(processed_frame)\n",
    "plot_frame(processed_frame, x0, x1, y0, y1)\n",
    "plot_processed_over_raw(processed_frame, frame, x0, x1, y0, y1)\n",
    "\n",
    "# Get largest cluster\n",
    "print 'clustering'\n",
    "clusters = oi.find_clusters_percentage_based(processed_frame, np.zeros((processed_frame.shape[0], processed_frame.shape[1])), diag = True)\n",
    "largest_cluster = sorted(clusters, key = lambda x: len(x))[-1]\n",
    "processed_frame = np.zeros(processed_frame.shape, dtype = np.uint8)\n",
    "for pixel in largest_cluster:\n",
    "    processed_frame[pixel[0], pixel[1]] = 1\n",
    "plot_frame(processed_frame, x0, x1, y0, y1)\n",
    "plot_processed_over_raw(processed_frame, frame, x0, x1, y0, y1)\n",
    "\n",
    "\n",
    "\n",
    "# Morphological closing\n",
    "print 'morphological closing'\n",
    "kernel = cv2.getStructuringElement(cv2.MORPH_ELLIPSE,(10,10))\n",
    "processed_frame = cv2.morphologyEx(np.array(processed_frame, dtype = np.uint8), cv2.MORPH_CLOSE, kernel)\n",
    "plot_frame(processed_frame, x0, x1, y0, y1)\n",
    "plot_processed_over_raw(processed_frame, frame, x0, x1, y0, y1)\n",
    "\n",
    "\n",
    "\n",
    "# Dilate/erode subtraction\n",
    "print 'erode subtraction'\n",
    "processed_frame = scipy.ndimage.morphology.binary_dilation(processed_frame, iterations = 1) - scipy.ndimage.morphology.binary_erosion(processed_frame, iterations = 1)\n",
    "plot_frame(processed_frame, x0, x1, y0, y1)\n",
    "plot_processed_over_raw(processed_frame, frame, x0, x1, y0, y1)"
   ]
  },
  {
   "cell_type": "markdown",
   "metadata": {},
   "source": [
    "# All-frame processing"
   ]
  },
  {
   "cell_type": "code",
   "execution_count": null,
   "metadata": {
    "collapsed": true
   },
   "outputs": [],
   "source": [
    "def preprocess_frame(raw_frame, template_frame):\n",
    "    \n",
    "\n",
    "\n",
    "\n",
    "    # Crop raw frame\n",
    "    x0 = detection._px - 30\n",
    "    x1 = detection._px + 30\n",
    "    y0 = detection._py - 30\n",
    "    y1 = detection._py + 30\n",
    "\n",
    "    frame = raw_frame[y0:y1, x0:x1]\n",
    "\n",
    "    # Copy\n",
    "    processed_frame = 1.*frame\n",
    "\n",
    "\n",
    "    # Negative\n",
    "    processed_frame = np.abs(frame - template_frame[y0:y1, x0:x1])\n",
    "\n",
    "    # Blur\n",
    "    window = (5,5)\n",
    "    processed_frame = cv2.GaussianBlur(processed_frame, window, 0)\n",
    "\n",
    "    # Threshold\n",
    "    threshold = .005\n",
    "    processed_frame[processed_frame > threshold] = 1\n",
    "    processed_frame[processed_frame <= threshold] = 0\n",
    "\n",
    "\n",
    "    # Erode subtraction\n",
    "    processed_frame = processed_frame - scipy.ndimage.morphology.binary_erosion(processed_frame, iterations = 1)\n",
    "\n",
    "\n",
    "    # Fill holes\n",
    "    processed_frame = scipy.ndimage.binary_fill_holes(processed_frame)\n",
    "\n",
    "\n",
    "    # Get largest cluster\n",
    "    clusters = oi.find_clusters_percentage_based(processed_frame, np.zeros((processed_frame.shape[0], processed_frame.shape[1])), diag = True)\n",
    "    largest_cluster = sorted(clusters, key = lambda x: len(x))[-1]\n",
    "    processed_frame = np.zeros(processed_frame.shape, dtype = np.uint8)\n",
    "    for pixel in largest_cluster:\n",
    "        processed_frame[pixel[0], pixel[1]] = 1\n",
    "\n",
    "\n",
    "\n",
    "\n",
    "    # Morphological closing\n",
    "    kernel = cv2.getStructuringElement(cv2.MORPH_ELLIPSE,(10,10))\n",
    "    processed_frame = cv2.morphologyEx(np.array(processed_frame, dtype = np.uint8), cv2.MORPH_CLOSE, kernel)\n",
    "\n",
    "\n",
    "\n",
    "\n",
    "    # Dilate/erode subtraction\n",
    "    processed_frame = scipy.ndimage.morphology.binary_dilation(processed_frame, iterations = 1) - scipy.ndimage.morphology.binary_erosion(processed_frame, iterations = 1)\n",
    "\n",
    "    plot_processed_over_raw(processed_frame, frame, x0, x1, y0, y1)"
   ]
  },
  {
   "cell_type": "code",
   "execution_count": null,
   "metadata": {
    "collapsed": false,
    "scrolled": false
   },
   "outputs": [],
   "source": [
    "oi_event = oi_events[3]\n",
    "\n",
    "oi_event.get_channel_enter_exit_tf(oi_stage)\n",
    "\n",
    "for i in range(oi_event._channel_enter_tf, oi_event._channel_exit_tf + 1):\n",
    "    detection = oi_event._detections[i - oi_event._detections[0]._tf]\n",
    "    raw_frame = oi_vid.get_frame(detection._tf)\n",
    "    \n",
    "    preprocess_frame(raw_frame, template_frame)"
   ]
  },
  {
   "cell_type": "code",
   "execution_count": null,
   "metadata": {
    "collapsed": false
   },
   "outputs": [],
   "source": [
    "# Fit ellipse\n",
    "print 'ellipse fit'\n",
    "xs, ys = np.where(processed_frame == 1)\n",
    "ellipse = oi.fit_ellipse(xs, ys)\n",
    "\n",
    "ellipse_center = oi.get_ellipse_center(ellipse)\n",
    "ellipse_angle = oi.get_ellipse_angle_of_rotation(ellipse)\n",
    "ellipse_axes_lengths = oi.get_ellipse_axes_lengths(ellipse)\n",
    "\n",
    "num_points = 100\n",
    "ellipse_edge_pixels = np.empty((num_points,2))\n",
    "for i in range(num_points):\n",
    "    theta = (1.*i)/num_points * 2.*np.pi\n",
    "    x = ellipse_axes_lengths[0]*np.cos(theta)\n",
    "    y = ellipse_axes_lengths[1]*np.sin(theta)\n",
    "    ellipse_edge_pixels[i,0] = ellipse_center[0] + np.cos(ellipse_angle)*x - np.sin(ellipse_angle)*y\n",
    "    ellipse_edge_pixels[i,1] = ellipse_center[1] + np.sin(ellipse_angle)*x + np.cos(ellipse_angle)*y\n",
    "    \n"
   ]
  }
 ],
 "metadata": {
  "anaconda-cloud": {},
  "kernelspec": {
   "display_name": "Python [conda env:py27]",
   "language": "python",
   "name": "conda-env-py27-py"
  },
  "language_info": {
   "codemirror_mode": {
    "name": "ipython",
    "version": 2
   },
   "file_extension": ".py",
   "mimetype": "text/x-python",
   "name": "python",
   "nbconvert_exporter": "python",
   "pygments_lexer": "ipython2",
   "version": "2.7.12"
  }
 },
 "nbformat": 4,
 "nbformat_minor": 1
}
