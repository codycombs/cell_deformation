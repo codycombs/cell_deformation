{
 "cells": [
  {
   "cell_type": "markdown",
   "metadata": {},
   "source": [
    "## Imports"
   ]
  },
  {
   "cell_type": "code",
   "execution_count": null,
   "metadata": {
    "collapsed": true
   },
   "outputs": [],
   "source": [
    "# Python standard library\n",
    "import sys\n",
    "import csv\n",
    "\n",
    "\n",
    "# Scientific computing\n",
    "import numpy as np\n",
    "import cv2\n",
    "import matplotlib.pyplot as plt\n",
    "import scipy.ndimage\n",
    "import scipy.interpolate\n",
    "#import seaborn as sns\n",
    "\n",
    "\n",
    "# Program specific\n",
    "sys.path.append('/home/prestonh/Desktop/Research/pore_stats/pore_stats/rp/')\n",
    "sys.path.append('/home/prestonh/Desktop/Research/pore_stats/pore_stats/oi/')\n",
    "import resistive_pulse as rp\n",
    "import rp_file\n",
    "import optical_imaging as oi\n",
    "import oi_file\n",
    "\n",
    "\n",
    "# Jupyter\n",
    "from IPython.display import HTML"
   ]
  },
  {
   "cell_type": "markdown",
   "metadata": {},
   "source": [
    "## Load data"
   ]
  },
  {
   "cell_type": "code",
   "execution_count": null,
   "metadata": {
    "collapsed": true
   },
   "outputs": [],
   "source": [
    "date = '10-10-2017/'\n",
    "particle = '293-T_1/'\n",
    "channel = '10-20-10_0/'\n",
    "file_index = '0/'\n",
    "\n",
    "base_path = '/home/prestonh/Desktop/Research/cancer_cells/data/'\n",
    "\n",
    "oi_vid_file_path = base_path + date + particle + channel + 'oi/bin/test_camera_' + file_index.replace('/','')\n",
    "oi_events_file_path = base_path + date + particle + channel + 'oi/events/test_camera_' + file_index.replace('/','') + '_events.json'\n",
    "\n",
    "\n",
    "res_x = 384\n",
    "res_y = 112\n",
    "fps = 250000.\n",
    "exposure_time = .5*10**(-6.)"
   ]
  },
  {
   "cell_type": "code",
   "execution_count": null,
   "metadata": {
    "collapsed": false
   },
   "outputs": [],
   "source": [
    "# Load video\n",
    "oi_vid = oi_file.Video(oi_vid_file_path, res_x, res_y, fps)\n",
    "\n",
    "# Load events\n",
    "oi_events = oi_file.open_event_file_json(oi_events_file_path)"
   ]
  },
  {
   "cell_type": "code",
   "execution_count": null,
   "metadata": {
    "collapsed": false
   },
   "outputs": [],
   "source": [
    "save_base_path = '/home/prestonh/Desktop/Research/cancer_cells/analysis/data/' + date + particle + channel + file_index\n",
    "\n",
    "print save_base_path"
   ]
  },
  {
   "cell_type": "code",
   "execution_count": null,
   "metadata": {
    "collapsed": false
   },
   "outputs": [],
   "source": [
    "reload(oi)\n",
    "template_index = 90\n",
    "template_frame = oi_vid.get_frame(template_index)\n",
    "c0 = [78, 80]\n",
    "c1 = [78, 55]\n",
    "c2 = [325, 53] \n",
    "c3 = [325, 75]\n",
    "\n",
    "\n",
    "oi_stage = oi.Stage(template_frame, c0, c1, c2, c3)\n",
    "oi_stage.plot_stage()"
   ]
  },
  {
   "cell_type": "code",
   "execution_count": null,
   "metadata": {
    "collapsed": true
   },
   "outputs": [],
   "source": [
    "oi_ellipse_base_path = '../data/'\n",
    "oi_ellipse_path = oi_ellipse_base_path + date + particle + channel + file_index + 'ellipses'\n",
    "\n",
    "ellipsess = []\n",
    "\n",
    "\n",
    "with open(oi_ellipse_path, 'r') as file_handle:\n",
    "    file_reader = csv.reader(file_handle, delimiter = '\\t')\n",
    "    \n",
    "    # Skip header\n",
    "    header_length = 2\n",
    "    for i in range(header_length):\n",
    "        next(file_reader)\n",
    "        \n",
    "        \n",
    "    for row in file_reader:\n",
    "        \n",
    "        if row[0] == 'event #':\n",
    "            # New event\n",
    "            ellipsess.append([])\n",
    "            continue\n",
    "            \n",
    "        else:\n",
    "            ellipse = []\n",
    "            for ele in row:\n",
    "                try:\n",
    "                    ellipse.append(float(ele))\n",
    "                except:\n",
    "                    ellipse.append(0)\n",
    "                    \n",
    "            ellipsess[-1].append(ellipse)"
   ]
  },
  {
   "cell_type": "code",
   "execution_count": null,
   "metadata": {
    "collapsed": false
   },
   "outputs": [],
   "source": [
    "# Load keep indices\n",
    "filter_file_path = '../data/' + date + particle + channel + file_index + 'filter'\n",
    "\n",
    "with open(filter_file_path, 'r') as filter_file_handle:\n",
    "    filter_file_reader = csv.reader(filter_file_handle, delimiter = '\\t')\n",
    "    for row in filter_file_reader:\n",
    "        if row[0] == 'events':\n",
    "            keep_indices = [int(ele) for ele in row[1:]]\n",
    "\n",
    "print 'loaded keep indices (', len(keep_indices), 'events total):\\n', keep_indices\n",
    "filtered_oi_events = [oi_events[i] for i in range(len(oi_events)) if i in keep_indices]\n",
    "filtered_ellipsess = [ellipsess[i] for i in range(len(ellipsess)) if i in keep_indices]"
   ]
  },
  {
   "cell_type": "code",
   "execution_count": null,
   "metadata": {
    "collapsed": false
   },
   "outputs": [],
   "source": [
    "manual_remove_indices = []\n",
    "oi_events = [filtered_oi_events[i] for i in range(len(filtered_oi_events)) if i not in manual_remove_indices]\n",
    "ellipsess = [filtered_ellipsess[i] for i in range(len(filtered_ellipsess)) if i not in manual_remove_indices]\n",
    "\n",
    "print 'Manually filtered', len(manual_remove_indices), 'events'"
   ]
  },
  {
   "cell_type": "markdown",
   "metadata": {},
   "source": [
    "## Create plot"
   ]
  },
  {
   "cell_type": "code",
   "execution_count": null,
   "metadata": {
    "collapsed": true
   },
   "outputs": [],
   "source": [
    "def plot_ellipse(ellipse):\n",
    "    \n",
    "    x_center = ellipse[1]\n",
    "    y_center = ellipse[2]\n",
    "    a = ellipse[3]\n",
    "    b = ellipse[4]\n",
    "    theta = ellipse[5]\n",
    "    \n",
    "    \n",
    "    # Plot ellipse perimiter\n",
    "    xs = []\n",
    "    ys = []\n",
    "    for i in range(100):\n",
    "        angle = i*2*np.pi/99.\n",
    "        x_ellipse = a*np.cos(angle)\n",
    "        y_ellipse = b*np.sin(angle)\n",
    "        x = x_center + np.cos(theta)*x_ellipse + np.sin(theta)*y_ellipse\n",
    "        y = y_center + np.sin(theta)*x_ellipse - np.cos(theta)*y_ellipse\n",
    "        \n",
    "        xs.append(x)\n",
    "        ys.append(y)\n",
    "        \n",
    "    plt.plot(xs, ys, lw = .5, ls = ':', c = 'white')\n",
    "    \n",
    "    \n",
    "    # Plot ellipse axes\n",
    "    plt.plot([x_center, x_center + a], [y_center, y_center], lw = .5, c = 'white')\n",
    "    plt.plot([x_center, x_center], [y_center, y_center + b], lw = .5, c = 'white')\n",
    "    \n",
    "    \n",
    "    # Plot ellipse text\n",
    "    yoffset = 5\n",
    "    a_um = oi_stage.pixels_to_meters(a)\n",
    "    b_um = oi_stage.pixels_to_meters(b)\n",
    "    \n",
    "    \n",
    "    \n",
    "    plt.text(0, 1.0,'a = ' + str(round(a_um, 2)) + r' $\\mu$m', transform = plt.gca().transAxes, ha = 'left', va = 'top', color = 'white', fontweight = 'bold')    \n",
    "    plt.text(0, 0.9,'b = ' + str(round(b_um, 2)) + r' $\\mu$m', transform = plt.gca().transAxes, ha = 'left', va = 'top', color = 'white', fontweight = 'bold')    \n",
    "    plt.text(0, 0.8,'a/b = ' + str(round(a/b, 2)), transform = plt.gca().transAxes, ha = 'left', va = 'top', color = 'white', fontweight = 'bold')    \n",
    "    plt.text(0, 0.7,r'$\\theta$ = ' + str(round(theta, 2)), transform = plt.gca().transAxes, ha = 'left', va = 'top', color = 'white', fontweight = 'bold')    \n",
    "    \n"
   ]
  },
  {
   "cell_type": "code",
   "execution_count": null,
   "metadata": {
    "collapsed": false
   },
   "outputs": [],
   "source": [
    "# Loop over events\n",
    "for i, oi_event in enumerate(oi_events):\n",
    "    print i\n",
    "    \n",
    "    try:\n",
    "        ellipses = ellipsess[i]\n",
    "\n",
    "\n",
    "        # Create figure\n",
    "        num_rows = 3\n",
    "        num_cols = 3\n",
    "        num_figs = num_rows*num_cols\n",
    "        \n",
    "        increment = 1.*len(ellipses)/num_figs\n",
    "        \n",
    "        \n",
    "        fig, axes = plt.subplots(num_rows, num_cols, figsize = (8,8))\n",
    "        plt.suptitle('event #' + str(i), y = 1.)\n",
    "        for j in range(num_rows*num_cols):\n",
    "            index = int(j*increment)\n",
    "            ellipse = ellipses[index]\n",
    "            detection_index = int(ellipse[0])\n",
    "            frame_index = oi_event._detections[detection_index]._tf\n",
    "            \n",
    "            \n",
    "            plt.sca(axes[j/num_cols, j%num_cols])\n",
    "            plt.imshow(oi_vid.get_frame(frame_index), cmap = 'gray', origin = 'lower')\n",
    "            plot_ellipse(ellipse)\n",
    "            \n",
    "            \n",
    "            x_center = ellipse[1]\n",
    "            y_center = ellipse[2]\n",
    "            \n",
    "            plt.xlim(x_center - 30, x_center + 30)\n",
    "            plt.ylim(y_center - 30, y_center + 30)\n",
    "            \n",
    "            plt.xticks([])\n",
    "            plt.yticks([])\n",
    "            \n",
    "        fig.tight_layout()\n",
    "            \n",
    "            \n",
    "            \n",
    "            \n",
    "            \n",
    "\n",
    "        plt.savefig(save_base_path + 'ellipse_fits/' + str(i) + '.png', dpi = 100)\n",
    "        plt.close()\n",
    "        plt.show()\n",
    "        \n",
    "    except:\n",
    "        print '\\tfailed on ', i\n",
    "    \n",
    "\n"
   ]
  },
  {
   "cell_type": "code",
   "execution_count": null,
   "metadata": {
    "collapsed": true
   },
   "outputs": [],
   "source": []
  },
  {
   "cell_type": "code",
   "execution_count": null,
   "metadata": {
    "collapsed": true
   },
   "outputs": [],
   "source": []
  }
 ],
 "metadata": {
  "anaconda-cloud": {},
  "kernelspec": {
   "display_name": "Python [conda env:py27]",
   "language": "python",
   "name": "conda-env-py27-py"
  },
  "language_info": {
   "codemirror_mode": {
    "name": "ipython",
    "version": 2
   },
   "file_extension": ".py",
   "mimetype": "text/x-python",
   "name": "python",
   "nbconvert_exporter": "python",
   "pygments_lexer": "ipython2",
   "version": "2.7.12"
  }
 },
 "nbformat": 4,
 "nbformat_minor": 1
}
