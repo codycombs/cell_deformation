{
 "cells": [
  {
   "cell_type": "markdown",
   "metadata": {},
   "source": [
    "# Velocities"
   ]
  },
  {
   "cell_type": "markdown",
   "metadata": {},
   "source": [
    "### Imports"
   ]
  },
  {
   "cell_type": "code",
   "execution_count": 1,
   "metadata": {
    "collapsed": false
   },
   "outputs": [],
   "source": [
    "# Python standard library\n",
    "import csv\n",
    "\n",
    "# Scientific computing\n",
    "import numpy as np\n",
    "\n",
    "import matplotlib.pyplot as plt\n",
    "%matplotlib inline\n",
    "\n",
    "# Pore stats"
   ]
  },
  {
   "cell_type": "markdown",
   "metadata": {},
   "source": [
    "### Load data"
   ]
  },
  {
   "cell_type": "code",
   "execution_count": 9,
   "metadata": {
    "collapsed": false
   },
   "outputs": [],
   "source": [
    "velocitiess = []\n",
    "rates = []\n",
    "\n",
    "\n",
    "##############################################################################################################\n",
    "date = '7-17-2017/'\n",
    "particle = '293-T/'\n",
    "channel = '15-30-15_1/'\n",
    "file_indices = ['0']\n",
    "rate = 0.01\n",
    "rates.append(rate)\n",
    "header_rows = 1\n",
    "\n",
    "base_file_path = '../data/' + date + particle + channel\n",
    "for file_index in file_indices:\n",
    "    file_path = base_file_path + 'velocities_' + file_index\n",
    "    \n",
    "    with open(file_path, 'r') as file_handle:\n",
    "        file_reader = csv.reader(file_handle, delimiter = '\\t')\n",
    "\n",
    "        for i in range(header_rows):\n",
    "            row = file_reader.next()\n",
    "\n",
    "\n",
    "        velocities = []\n",
    "        for row in file_reader:\n",
    "            if row[0] == 'event #':\n",
    "                pass\n",
    "            else:\n",
    "                velocity = float(row[0])\n",
    "                velocities.append(velocity)\n",
    "                \n",
    "        velocitiess.append(velocities)\n",
    "        \n",
    "        \n",
    "##############################################################################################################\n",
    "date = '7-17-2017/'\n",
    "particle = '293-T/'\n",
    "channel = '15-30-15_6/'\n",
    "file_indices = ['0']\n",
    "rate = 0.01\n",
    "rates.append(rate)\n",
    "header_rows = 1\n",
    "\n",
    "base_file_path = '../data/' + date + particle + channel\n",
    "for file_index in file_indices:\n",
    "    file_path = base_file_path + 'velocities_' + file_index\n",
    "    \n",
    "    with open(file_path, 'r') as file_handle:\n",
    "        file_reader = csv.reader(file_handle, delimiter = '\\t')\n",
    "\n",
    "        for i in range(header_rows):\n",
    "            row = file_reader.next()\n",
    "\n",
    "\n",
    "        velocities = []\n",
    "        for row in file_reader:\n",
    "            if row[0] == 'event #':\n",
    "                pass\n",
    "            else:\n",
    "                velocity = float(row[0])\n",
    "                velocities.append(velocity)\n",
    "                \n",
    "        velocitiess.append(velocities)\n"
   ]
  },
  {
   "cell_type": "code",
   "execution_count": 10,
   "metadata": {
    "collapsed": false
   },
   "outputs": [
    {
     "data": {
      "image/png": "[encoded data removed]",
      "text/plain": [
       "<matplotlib.figure.Figure at 0x7f1def5fd890>"
      ]
     },
     "metadata": {},
     "output_type": "display_data"
    }
   ],
   "source": [
    "for i, velocities in enumerate(velocitiess):\n",
    "    hist = plt.hist(velocities, bins = 10, alpha = 0.5)\n",
    "    plt.text(np.mean(velocities), np.max(hist[0]), rates[i], ha = 'center', va = 'bottom')\n",
    "plt.show()    "
   ]
  },
  {
   "cell_type": "code",
   "execution_count": null,
   "metadata": {
    "collapsed": true
   },
   "outputs": [],
   "source": []
  }
 ],
 "metadata": {
  "anaconda-cloud": {},
  "kernelspec": {
   "display_name": "Python [conda env:py27]",
   "language": "python",
   "name": "conda-env-py27-py"
  },
  "language_info": {
   "codemirror_mode": {
    "name": "ipython",
    "version": 2
   },
   "file_extension": ".py",
   "mimetype": "text/x-python",
   "name": "python",
   "nbconvert_exporter": "python",
   "pygments_lexer": "ipython2",
   "version": "2.7.12"
  }
 },
 "nbformat": 4,
 "nbformat_minor": 1
}
