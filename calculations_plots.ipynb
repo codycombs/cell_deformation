{
 "cells": [
  {
   "cell_type": "code",
   "execution_count": 1,
   "metadata": {
    "collapsed": true
   },
   "outputs": [],
   "source": [
    "# Python standard library\n",
    "import csv\n",
    "import sys\n",
    "\n",
    "# Scientific computing\n",
    "import numpy as np\n",
    "import scipy\n",
    "import scipy.interpolate\n",
    "\n",
    "import matplotlib.pyplot as plt\n",
    "%matplotlib inline\n",
    "\n",
    "# Pore stats\n",
    "sys.path.append('/home/prestonh/Desktop/Research/pore_stats/pore_stats/oi')\n",
    "import optical_imaging as oi\n",
    "import oi_file"
   ]
  },
  {
   "cell_type": "code",
   "execution_count": 2,
   "metadata": {
    "collapsed": true
   },
   "outputs": [],
   "source": [
    "date = '10-10-2017'\n",
    "particle = 'HCT-116_1'\n",
    "channel = '10-20-10_1'\n",
    "file_index = '0'\n",
    "\n",
    "base_path = oi_file.data_base_path\n",
    "\n",
    "oi_vid_file_path = base_path + date + '/' + particle + '/' + channel + '/oi/bin/test_camera_' + file_index\n",
    "oi_events_file_path = base_path + date + '/' + particle + '/' + channel + '/oi/events/test_camera_' + file_index + '_events.json'"
   ]
  },
  {
   "cell_type": "code",
   "execution_count": 3,
   "metadata": {
    "collapsed": false
   },
   "outputs": [
    {
     "name": "stderr",
     "output_type": "stream",
     "text": [
      "/home/prestonh/Desktop/Research/pore_stats/pore_stats/oi/optical_imaging.py:75: FutureWarning: comparison to `None` will result in an elementwise object comparison in the future.\n",
      "  if pixels != None:\n"
     ]
    }
   ],
   "source": [
    "# Load video\n",
    "oi_res_x = 384\n",
    "oi_res_y = 112\n",
    "oi_fps = 250000.\n",
    "\n",
    "oi_vid = oi_file.Video(oi_vid_file_path, oi_res_x, oi_res_y, oi_fps)\n",
    "\n",
    "# Load events\n",
    "oi_events = oi_file.open_event_file_json(oi_events_file_path)"
   ]
  },
  {
   "cell_type": "code",
   "execution_count": 4,
   "metadata": {
    "collapsed": false
   },
   "outputs": [
    {
     "ename": "IOError",
     "evalue": "[Errno 2] No such file or directory: '/home/prestonh/Desktop/Research/cancer_cells/data/10-10-2017HCT-116_110-20-10_1oi/stage/stage_0'",
     "output_type": "error",
     "traceback": [
      "\u001b[0;31m------------------------------------------------------------------------\u001b[0m",
      "\u001b[0;31mIOError\u001b[0m                                Traceback (most recent call last)",
      "\u001b[0;32m<ipython-input-4-5b9e20f07322>\u001b[0m in \u001b[0;36m<module>\u001b[0;34m()\u001b[0m\n\u001b[1;32m      6\u001b[0m \u001b[0;34m\u001b[0m\u001b[0m\n\u001b[1;32m      7\u001b[0m \u001b[0mstage_file_path\u001b[0m \u001b[0;34m=\u001b[0m \u001b[0mbase_path\u001b[0m \u001b[0;34m+\u001b[0m \u001b[0mdate\u001b[0m \u001b[0;34m+\u001b[0m \u001b[0mparticle\u001b[0m \u001b[0;34m+\u001b[0m \u001b[0mchannel\u001b[0m \u001b[0;34m+\u001b[0m \u001b[0;34m'oi/stage/stage_'\u001b[0m \u001b[0;34m+\u001b[0m \u001b[0mfile_index\u001b[0m\u001b[0;34m\u001b[0m\u001b[0m\n\u001b[0;32m----> 8\u001b[0;31m \u001b[0mcs\u001b[0m \u001b[0;34m=\u001b[0m \u001b[0moi\u001b[0m\u001b[0;34m.\u001b[0m\u001b[0mload_stage_file\u001b[0m\u001b[0;34m(\u001b[0m\u001b[0mstage_file_path\u001b[0m\u001b[0;34m)\u001b[0m\u001b[0;34m\u001b[0m\u001b[0m\n\u001b[0m\u001b[1;32m      9\u001b[0m \u001b[0;34m\u001b[0m\u001b[0m\n\u001b[1;32m     10\u001b[0m \u001b[0mc0\u001b[0m \u001b[0;34m=\u001b[0m \u001b[0mcs\u001b[0m\u001b[0;34m[\u001b[0m\u001b[0;36m0\u001b[0m\u001b[0;34m]\u001b[0m\u001b[0;34m\u001b[0m\u001b[0m\n",
      "\u001b[0;32m/home/prestonh/Desktop/Research/pore_stats/pore_stats/oi/optical_imaging.pyc\u001b[0m in \u001b[0;36mload_stage_file\u001b[0;34m(file_path)\u001b[0m\n\u001b[1;32m    274\u001b[0m \u001b[0;32mdef\u001b[0m \u001b[0mload_stage_file\u001b[0m\u001b[0;34m(\u001b[0m\u001b[0mfile_path\u001b[0m\u001b[0;34m)\u001b[0m\u001b[0;34m:\u001b[0m\u001b[0;34m\u001b[0m\u001b[0m\n\u001b[1;32m    275\u001b[0m \u001b[0;34m\u001b[0m\u001b[0m\n\u001b[0;32m--> 276\u001b[0;31m     \u001b[0;32mwith\u001b[0m \u001b[0mopen\u001b[0m\u001b[0;34m(\u001b[0m\u001b[0mfile_path\u001b[0m\u001b[0;34m,\u001b[0m \u001b[0;34m'r'\u001b[0m\u001b[0;34m)\u001b[0m \u001b[0;32mas\u001b[0m \u001b[0mfile_handle\u001b[0m\u001b[0;34m:\u001b[0m\u001b[0;34m\u001b[0m\u001b[0m\n\u001b[0m\u001b[1;32m    277\u001b[0m         \u001b[0mcs\u001b[0m \u001b[0;34m=\u001b[0m \u001b[0mfile_handle\u001b[0m\u001b[0;34m.\u001b[0m\u001b[0mread\u001b[0m\u001b[0;34m(\u001b[0m\u001b[0;34m)\u001b[0m\u001b[0;34m\u001b[0m\u001b[0m\n\u001b[1;32m    278\u001b[0m         \u001b[0mcs\u001b[0m\u001b[0;34m.\u001b[0m\u001b[0mreplace\u001b[0m\u001b[0;34m(\u001b[0m\u001b[0;34m' '\u001b[0m\u001b[0;34m,\u001b[0m\u001b[0;34m''\u001b[0m\u001b[0;34m)\u001b[0m\u001b[0;34m\u001b[0m\u001b[0m\n",
      "\u001b[0;31mIOError\u001b[0m: [Errno 2] No such file or directory: '/home/prestonh/Desktop/Research/cancer_cells/data/10-10-2017HCT-116_110-20-10_1oi/stage/stage_0'"
     ]
    }
   ],
   "source": [
    "reload(oi)\n",
    "\n",
    "template_index = 100\n",
    "\n",
    "template_frame = oi_vid.get_frame(template_index)\n",
    "\n",
    "stage_file_path = base_path + date + particle + channel + 'oi/stage/stage_' + file_index\n",
    "cs = oi.load_stage_file(stage_file_path)\n",
    "\n",
    "c0 = cs[0]\n",
    "c1 = cs[1]\n",
    "c2 = cs[2]\n",
    "c3 = cs[3]\n",
    "\n",
    "oi_stage = oi.Stage(template_frame, c0, c1, c2, c3)\n",
    "oi_stage.plot_stage()"
   ]
  },
  {
   "cell_type": "code",
   "execution_count": null,
   "metadata": {
    "collapsed": true
   },
   "outputs": [],
   "source": [
    "oi_ellipse_base_path = '../data/'\n",
    "oi_ellipse_path = oi_ellipse_base_path + date + particle + channel + file_index + '/ellipses'\n",
    "\n",
    "ellipsess = []\n",
    "\n",
    "\n",
    "with open(oi_ellipse_path, 'r') as file_handle:\n",
    "    file_reader = csv.reader(file_handle, delimiter = '\\t')\n",
    "    \n",
    "    # Skip header\n",
    "    header_length = 2\n",
    "    for i in range(header_length):\n",
    "        next(file_reader)\n",
    "        \n",
    "        \n",
    "    for row in file_reader:\n",
    "        \n",
    "        if row[0] == 'event #':\n",
    "            # New event\n",
    "            ellipsess.append([])\n",
    "            continue\n",
    "            \n",
    "        else:\n",
    "            ellipse = []\n",
    "            for ele in row:\n",
    "                try:\n",
    "                    ellipse.append(float(ele))\n",
    "                except:\n",
    "                    ellipse.append(0)\n",
    "                    \n",
    "            ellipsess[-1].append(ellipse)"
   ]
  },
  {
   "cell_type": "code",
   "execution_count": null,
   "metadata": {
    "collapsed": true
   },
   "outputs": [],
   "source": [
    "# Load keep indices\n",
    "filter_file_path = '../data/' + date + particle + channel + file_index + '/filter'\n",
    "\n",
    "with open(filter_file_path, 'r') as filter_file_handle:\n",
    "    filter_file_reader = csv.reader(filter_file_handle, delimiter = '\\t')\n",
    "    for row in filter_file_reader:\n",
    "        if row[0] == 'events':\n",
    "            keep_indices = [int(ele) for ele in row[1:]]\n",
    "\n",
    "print 'loaded keep indices (', len(keep_indices), 'events total):\\n', keep_indices"
   ]
  },
  {
   "cell_type": "code",
   "execution_count": null,
   "metadata": {
    "collapsed": true
   },
   "outputs": [],
   "source": [
    "filtered_oi_events = [oi_events[i] for i in range(len(oi_events)) if i in keep_indices]\n",
    "filtered_ellipsess = [ellipsess[i] for i in range(len(ellipsess)) if i in keep_indices]"
   ]
  },
  {
   "cell_type": "code",
   "execution_count": null,
   "metadata": {
    "collapsed": true
   },
   "outputs": [],
   "source": [
    "oi_events = filtered_oi_events\n",
    "ellipsess = filtered_ellipsess"
   ]
  },
  {
   "cell_type": "code",
   "execution_count": null,
   "metadata": {
    "collapsed": true
   },
   "outputs": [],
   "source": [
    "print len(ellipsess)\n",
    "print len(oi_events)"
   ]
  },
  {
   "cell_type": "code",
   "execution_count": null,
   "metadata": {
    "collapsed": true
   },
   "outputs": [],
   "source": [
    "calculations_file_path = '../data/' + date + particle + channel + file_index + '/calculations'\n",
    "\n",
    "\n",
    "\n",
    "with open(calculations_file_path, 'r') as file_handle:\n",
    "    file_reader = csv.reader(file_handle, delimiter = ',')\n",
    "    header = file_reader.next()\n",
    "    \n",
    "calculations = np.genfromtxt(calculations_file_path, delimiter = ',', skip_header = 1)    \n",
    "\n",
    "header_dict = {header[i]:i for i in range(len(header))}"
   ]
  },
  {
   "cell_type": "code",
   "execution_count": null,
   "metadata": {
    "collapsed": true
   },
   "outputs": [],
   "source": [
    "save = True"
   ]
  },
  {
   "cell_type": "code",
   "execution_count": null,
   "metadata": {
    "collapsed": true
   },
   "outputs": [],
   "source": [
    "base_path = '/home/prestonh/Desktop/Research/cancer_cells/analysis/data/'\n",
    "\n",
    "num_files = 2\n",
    "dates = ['10-10-2017']*num_files\n",
    "particles = ['293-T_0']*num_files\n",
    "channels = ['10-20-10_1', '10-20-10_3']\n",
    "indices = ['0']*2\n",
    "\n",
    "\n",
    "calculations_file_paths = [base_path + dates[i] + '/' + particles[i] + '/' + channels[i] + '/' + indices[i] + '/' + 'calculations' for i in range(num_files)]\n",
    "\n",
    "\n",
    "\n",
    "with open(calculations_file_path, 'r') as file_handle:\n",
    "    file_reader = csv.reader(file_handle, delimiter = ',')\n",
    "    header = file_reader.next()\n",
    "    \n",
    "header_dict = {header[i]:i for i in range(len(header))}\n",
    "    \n",
    "    \n",
    "calculationss = []\n",
    "for i in range(num_files):\n",
    "    calculations = np.genfromtxt(calculations_file_paths[i], delimiter = ',', skip_header = 1)    \n",
    "    calculationss.append(calculations)\n",
    "    \n",
    "num_events = []\n",
    "for i in range(num_files):\n",
    "    num_events.append(int(np.max(calculationss[i][:,0])))\n",
    "    \n"
   ]
  },
  {
   "cell_type": "code",
   "execution_count": null,
   "metadata": {
    "collapsed": true
   },
   "outputs": [],
   "source": [
    "avg_radius_pixss = []\n",
    "avg_radius_umss = []\n",
    "\n",
    "outside_aspectss = []\n",
    "narrow_aspectss = []\n",
    "cavity_aspectss = []\n",
    "\n",
    "for i in range(num_files):\n",
    "    print i\n",
    "    \n",
    "    avg_radius_pixs = []\n",
    "    avg_radius_ums = []\n",
    "    \n",
    "    outside_aspects = []\n",
    "    narrow_aspects = []\n",
    "    cavity_aspects = []\n",
    "    \n",
    "    calculations = np.copy(calculationss[i])\n",
    "\n",
    "    \n",
    "    \n",
    "    for j in range(num_events[i]):\n",
    "\n",
    "        event_calculations = np.copy(calculations[calculations[:,header_dict['event_num']] == j])\n",
    "\n",
    "\n",
    "\n",
    "        xc_ums = np.copy(event_calculations[:,header_dict['xc_um']])\n",
    "        aspects = np.copy(event_calculations[:,header_dict['aspect-ratio']])\n",
    "        radii_pix = np.copy(event_calculations[:,header_dict['r_pix']])\n",
    "        radii_um = np.copy(event_calculations[:,header_dict['r_um']])\n",
    "\n",
    "\n",
    "        avg_radius_pix = radii_pix[(xc_ums > -50) & (xc_ums < 0)][0]\n",
    "        avg_radius_um = radii_um[(xc_ums > -50) & (xc_ums < 0)][0]\n",
    "        outside_aspect = np.mean(aspects[(xc_ums > -50) & (xc_ums < 0)])\n",
    "        narrow_aspect = np.mean(aspects[(xc_ums > 10) & (xc_ums < 40)])\n",
    "        cavity_aspect = np.mean(aspects[(xc_ums > 60) & (xc_ums < 90)])\n",
    "\n",
    "\n",
    "        avg_radius_pixs.append(avg_radius_pix)\n",
    "        avg_radius_ums.append(avg_radius_um)\n",
    "        outside_aspects.append(outside_aspect)\n",
    "        narrow_aspects.append(narrow_aspect)\n",
    "        cavity_aspects.append(cavity_aspect)\n",
    "\n",
    "\n",
    "\n",
    "        \n",
    "    avg_radius_pixss.append(avg_radius_pixs)\n",
    "    avg_radius_umss.append(avg_radius_ums)\n",
    "    \n",
    "    outside_aspectss.append(outside_aspects)\n",
    "    narrow_aspectss.append(narrow_aspects)\n",
    "    cavity_aspectss.append(cavity_aspects)"
   ]
  },
  {
   "cell_type": "code",
   "execution_count": null,
   "metadata": {
    "collapsed": true
   },
   "outputs": [],
   "source": [
    "for i in range(num_files):\n",
    "    avg_radius_pixss[i] = np.array(avg_radius_pixss[i])\n",
    "    avg_radius_umss[i] = np.array(avg_radius_umss[i])\n",
    "    \n",
    "    outside_aspectss[i] = np.array(outside_aspectss[i])\n",
    "    narrow_aspectss[i] = np.array(narrow_aspectss[i])\n",
    "    cavity_aspectss[i] = np.array(cavity_aspectss[i])"
   ]
  },
  {
   "cell_type": "code",
   "execution_count": null,
   "metadata": {
    "collapsed": true
   },
   "outputs": [],
   "source": [
    "for i in range(num_files):\n",
    "    if i == 0:\n",
    "        color = 'blue'\n",
    "        marker = 'x'\n",
    "    else:\n",
    "        color = 'red'\n",
    "        marker = 'x'\n",
    "    plt.scatter(avg_radius_pixss[i], narrow_aspectss[i], marker = marker, color = color, lw = 1.5)\n",
    "    #sns.kdeplot(avg_radius_pixss[i], narrow_aspectss[i], cmap = 'Reds')\n",
    "    \n",
    "plt.show()"
   ]
  },
  {
   "cell_type": "code",
   "execution_count": null,
   "metadata": {
    "collapsed": true
   },
   "outputs": [],
   "source": [
    "#plt.scatter(avg_radius_ums, narrow_aspects, marker = 'o', color = 'blue')\n",
    "#sns.kdeplot(avg_radius_ums, narrow_aspects, cmap = 'Blues')\n",
    "\n",
    "plt.scatter(avg_radius_pixs, outside_aspects, marker = 'x', color = 'red')\n",
    "sns.kdeplot(avg_radius_pixs, outside_aspects, cmap = 'Reds')\n",
    "\n",
    "#plt.scatter(avg_radius_pixs, cavity_aspects, marker = 'x', color = 'red')\n",
    "#sns.kdeplot(avg_radius_pixs, cavity_aspects, cmap = 'Reds')\n",
    "\n",
    "plt.show()"
   ]
  }
 ],
 "metadata": {
  "anaconda-cloud": {},
  "kernelspec": {
   "display_name": "Python [conda env:py27]",
   "language": "python",
   "name": "conda-env-py27-py"
  },
  "language_info": {
   "codemirror_mode": {
    "name": "ipython",
    "version": 2
   },
   "file_extension": ".py",
   "mimetype": "text/x-python",
   "name": "python",
   "nbconvert_exporter": "python",
   "pygments_lexer": "ipython2",
   "version": "2.7.12"
  }
 },
 "nbformat": 4,
 "nbformat_minor": 1
}
